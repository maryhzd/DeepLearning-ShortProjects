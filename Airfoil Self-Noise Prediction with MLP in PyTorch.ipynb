{
 "cells": [
  {
   "cell_type": "markdown",
   "id": "d71b67ce",
   "metadata": {},
   "source": [
    "# Welcome to HW2\n",
    "\n",
    "In this assignment you will be implementing a neural network in order to perform regression on the Airfoil Self-Noise data set. Remember to restart and run all cells before submission. Points will be deducted if you do not do this. When you are ready to submit, you can convert your notebook to a PDF file by printing the page either with `ctrl + p` or `command + p` and then saving as p1.pdf."
   ]
  },
  {
   "cell_type": "markdown",
   "id": "b078d440",
   "metadata": {},
   "source": [
    "## The imports and helper functions should not be modified in any way."
   ]
  },
  {
   "cell_type": "code",
   "execution_count": 52,
   "id": "39ca4710",
   "metadata": {},
   "outputs": [],
   "source": [
    "import torch\n",
    "from torch import nn\n",
    "from torch.utils.data import DataLoader\n",
    "import numpy as np\n",
    "from tqdm import tqdm\n",
    "from matplotlib import pyplot as plt"
   ]
  },
  {
   "cell_type": "code",
   "execution_count": 53,
   "id": "f4e991b3",
   "metadata": {},
   "outputs": [],
   "source": [
    "def evaluate(model, test_data):\n",
    "    '''\n",
    "        Do not modify this code.\n",
    "    '''\n",
    "    test_loader = DataLoader(Dataset(test_data), batch_size=1)\n",
    "    loss_fn = torch.nn.MSELoss()\n",
    "    with torch.no_grad():\n",
    "        total_loss = 0\n",
    "        for x, y in test_loader:\n",
    "            pred = model(x)\n",
    "            total_loss += loss_fn(pred, y).item()\n",
    "    print(\"TOTAL EVALUATION LOSS: {0:.5f}\".format(total_loss))"
   ]
  },
  {
   "cell_type": "code",
   "execution_count": 54,
   "id": "99e84b54",
   "metadata": {},
   "outputs": [],
   "source": [
    "def plot_training_curves(train_loss, val_loss, loss_fn_name, reduction):\n",
    "    '''\n",
    "        Do not modify this code.\n",
    "    '''\n",
    "    fig, ax = plt.subplots(figsize=(8,6))\n",
    "    ax.plot(train_loss, label=\"Train Loss\")\n",
    "    ax.plot(val_loss, label=\"Validation Loss\")\n",
    "    ax.legend(loc='best')\n",
    "    ax.set_title(\"Loss During Training\", fontsize=16)\n",
    "    ax.set_xlabel(\"Epochs\", fontsize=14)\n",
    "    ax.set_ylabel(\"Loss: {}(reduction={})\".format(loss_fn_name, reduction), fontsize=14)\n",
    "    plt.savefig(\"./example_loss.pdf\")\n",
    "    plt.show()"
   ]
  },
  {
   "cell_type": "markdown",
   "id": "ae7fa49e",
   "metadata": {},
   "source": [
    "## a) Implement your dataset object.\n",
    "\n",
    "Do not modify the function definitions. Please note that the first five columns of the airfoil data are features and the last column is the target. Your dataset should have one attribute for the features, one attribute for the targets, and should return the specified features and target in `__getitem__()` as separate values."
   ]
  },
  {
   "cell_type": "code",
   "execution_count": 55,
   "id": "59749439",
   "metadata": {},
   "outputs": [],
   "source": [
    "class Dataset(torch.utils.data.Dataset):\n",
    "    \"\"\"Create your dataset here.\"\"\"\n",
    "\n",
    "    def __init__(self, airfoil_data):\n",
    "        \"\"\"\n",
    "            Initialize your Dataset object with features and labels\n",
    "        \"\"\"\n",
    "        ### Define your features and labels here\n",
    "        self.features = airfoil_data[:, :-1] \n",
    "        self.targets = airfoil_data[:, -1]\n",
    "\n",
    "    def __len__(self):\n",
    "        ### Define the length of your data set\n",
    "        return len(self.features)\n",
    "\n",
    "    def __getitem__(self, idx):\n",
    "        ### Return the features and labels of your data for a given index\n",
    "        feature = torch.tensor(self.features[idx], dtype=torch.float32)\n",
    "        target = torch.tensor(self.targets[idx], dtype=torch.float32)\n",
    "        target = target.unsqueeze(-1)\n",
    "        return feature, target"
   ]
  },
  {
   "cell_type": "markdown",
   "id": "601ab911",
   "metadata": {},
   "source": [
    "## b) Implement the model architecture and `forward` function.\n",
    "\n",
    "Do not modify the function definitions. You will need to define input, hidden, and output layers, as well as the activation function."
   ]
  },
  {
   "cell_type": "code",
   "execution_count": 56,
   "id": "0479005d",
   "metadata": {},
   "outputs": [],
   "source": [
    "class NeuralNetwork(nn.Module):\n",
    "    def __init__(self, input_dimension=5, output_dimension=1, hidden=[32], activation=nn.ReLU()):\n",
    "        super(NeuralNetwork, self).__init__()\n",
    "        '''\n",
    "            Implement your neural network here. You will need to add layers and an activation function.\n",
    "            You are free to modify the number of layers in the hidden list.\n",
    "        '''\n",
    "        ### Define your input, hidden and output layers here\n",
    "        \n",
    "        ### Set your activation function here\n",
    "        \n",
    "        self.seq = nn.Sequential(\n",
    "            nn.Linear(input_dimension, 32),\n",
    "            activation,\n",
    "            nn.Linear(32, 64),\n",
    "            activation,\n",
    "            nn.Linear(64, 84),\n",
    "            nn.Tanh(),\n",
    "            nn.Linear(84, 84),\n",
    "            activation,\n",
    "            nn.Linear(84, 84),\n",
    "            nn.Tanh(),\n",
    "            nn.Linear(84, 64),\n",
    "            activation,\n",
    "            nn.Linear(64, 34),\n",
    "            activation,\n",
    "            nn.Linear(34, 24),\n",
    "            activation,\n",
    "            nn.Linear(24, 10),\n",
    "            activation,\n",
    "            nn.Linear(10, output_dimension)\n",
    "        )  \n",
    "\n",
    "    def forward(self, x):\n",
    "        '''\n",
    "            Implement the forward function using the layers and activation function you defined above.\n",
    "        '''\n",
    "        ### Call your hidden layers and activation function to do the forward pass through your network.\n",
    "        \n",
    "        return self.seq(x) #self.layers(x)"
   ]
  },
  {
   "cell_type": "markdown",
   "id": "578f9c68",
   "metadata": {},
   "source": [
    "## c, d) Define hyperparameters and implement the training loop.\n",
    "\n",
    "You will need to choose your loss function, number of epochs, optimizer learning rate, optimizer weight decay, and batch size for part (c). You will need to set up the DataLoader, implement the forward pass, and implement the backpropagation update."
   ]
  },
  {
   "cell_type": "code",
   "execution_count": 57,
   "id": "45bac6f7",
   "metadata": {},
   "outputs": [],
   "source": [
    "def train(model, train_data, validation_data):\n",
    "\n",
    "    ###\n",
    "    #  Modify these parameters\n",
    "    ###\n",
    "    loss_fn = torch.nn.MSELoss()\n",
    "    epochs = 2500\n",
    "    learning_rate = 0.001\n",
    "    weight_decay = 0.001\n",
    "    batch_size = 600\n",
    "\n",
    "    # Set up data\n",
    "    train_loader = DataLoader(Dataset(train_data), batch_size=batch_size, shuffle=True)\n",
    "    validation_loader = DataLoader(Dataset(validation_data), batch_size=batch_size)\n",
    "\n",
    "    # The Adam optimizer is recommended for this assignment.\n",
    "    optimizer = torch.optim.Adam(model.parameters(), lr=learning_rate, weight_decay=weight_decay)\n",
    "\n",
    "    train_losses, val_losses = [], []\n",
    "    for ep in tqdm(range(epochs)):\n",
    "        \n",
    "        model.train()\n",
    "        train_loss = 0\n",
    "        for x, y in train_loader:\n",
    "            optimizer.zero_grad()\n",
    "            pred = model(x)\n",
    "            loss = loss_fn(pred, y)\n",
    "            loss.backward()\n",
    "            optimizer.step()\n",
    "            train_loss += loss.item()\n",
    "            \n",
    "        model.eval()\n",
    "        val_loss = 0\n",
    "            \n",
    "        with torch.no_grad():\n",
    "            for x, y in validation_loader:\n",
    "                \n",
    "                pred = model(x)\n",
    "                loss = loss_fn(pred, y)\n",
    "                val_loss += loss.item()\n",
    "                \n",
    "        train_losses.append(train_loss / len(train_loader))\n",
    "        val_losses.append(val_loss / len(validation_loader))\n",
    "\n",
    "\n",
    "        # Feel free to modify how frequently training progress is printed\n",
    "        if(ep%100 == 0):\n",
    "            print(\"Train Loss: {0:.4f}\\tValidation Loss: {1:.4f}\".format(train_loss, val_loss))\n",
    "\n",
    "        # Hold on to losses for easy saving and plotting\n",
    "    \n",
    "    # Save your losses as .npy files\n",
    "    np.save(\"./train_losses.npy\", train_losses)\n",
    "    np.save(\"./val_losses.npy\", val_losses)\n",
    "\n",
    "    # Save the model as ./p1_model.pt\n",
    "    torch.save(model.state_dict(), \"./hw1_model.pt\")\n",
    "    return model"
   ]
  },
  {
   "cell_type": "markdown",
   "id": "03442346",
   "metadata": {},
   "source": [
    "## e) Load your data, then train and evaluate your model before plotting the training curves."
   ]
  },
  {
   "cell_type": "code",
   "execution_count": 58,
   "id": "25d032de",
   "metadata": {
    "scrolled": true
   },
   "outputs": [
    {
     "name": "stdout",
     "output_type": "stream",
     "text": [
      "(903, 6)\n"
     ]
    },
    {
     "name": "stderr",
     "output_type": "stream",
     "text": [
      "  0%|▏                                         | 8/2500 [00:00<00:31, 79.37it/s]"
     ]
    },
    {
     "name": "stdout",
     "output_type": "stream",
     "text": [
      "Train Loss: 2.0128\tValidation Loss: 1.0505\n"
     ]
    },
    {
     "name": "stderr",
     "output_type": "stream",
     "text": [
      "  5%|█▉                                     | 123/2500 [00:01<00:22, 107.89it/s]"
     ]
    },
    {
     "name": "stdout",
     "output_type": "stream",
     "text": [
      "Train Loss: 0.2316\tValidation Loss: 0.1662\n"
     ]
    },
    {
     "name": "stderr",
     "output_type": "stream",
     "text": [
      "  9%|███▍                                   | 218/2500 [00:02<00:20, 109.51it/s]"
     ]
    },
    {
     "name": "stdout",
     "output_type": "stream",
     "text": [
      "Train Loss: 0.0985\tValidation Loss: 0.0898\n"
     ]
    },
    {
     "name": "stderr",
     "output_type": "stream",
     "text": [
      " 13%|████▉                                  | 316/2500 [00:02<00:18, 118.74it/s]"
     ]
    },
    {
     "name": "stdout",
     "output_type": "stream",
     "text": [
      "Train Loss: 0.0751\tValidation Loss: 0.0854\n"
     ]
    },
    {
     "name": "stderr",
     "output_type": "stream",
     "text": [
      " 17%|██████▌                                | 419/2500 [00:03<00:17, 117.54it/s]"
     ]
    },
    {
     "name": "stdout",
     "output_type": "stream",
     "text": [
      "Train Loss: 0.0651\tValidation Loss: 0.0771\n"
     ]
    },
    {
     "name": "stderr",
     "output_type": "stream",
     "text": [
      " 21%|████████                               | 515/2500 [00:04<00:17, 114.54it/s]"
     ]
    },
    {
     "name": "stdout",
     "output_type": "stream",
     "text": [
      "Train Loss: 0.0554\tValidation Loss: 0.0730\n"
     ]
    },
    {
     "name": "stderr",
     "output_type": "stream",
     "text": [
      " 25%|█████████▌                             | 614/2500 [00:05<00:17, 107.85it/s]"
     ]
    },
    {
     "name": "stdout",
     "output_type": "stream",
     "text": [
      "Train Loss: 0.0616\tValidation Loss: 0.0681\n"
     ]
    },
    {
     "name": "stderr",
     "output_type": "stream",
     "text": [
      " 28%|███████████                            | 712/2500 [00:06<00:17, 101.92it/s]"
     ]
    },
    {
     "name": "stdout",
     "output_type": "stream",
     "text": [
      "Train Loss: 0.0508\tValidation Loss: 0.0681\n"
     ]
    },
    {
     "name": "stderr",
     "output_type": "stream",
     "text": [
      " 32%|████████████▋                          | 812/2500 [00:07<00:14, 119.73it/s]"
     ]
    },
    {
     "name": "stdout",
     "output_type": "stream",
     "text": [
      "Train Loss: 0.0443\tValidation Loss: 0.0638\n"
     ]
    },
    {
     "name": "stderr",
     "output_type": "stream",
     "text": [
      " 37%|██████████████▏                        | 913/2500 [00:08<00:13, 120.01it/s]"
     ]
    },
    {
     "name": "stdout",
     "output_type": "stream",
     "text": [
      "Train Loss: 0.0432\tValidation Loss: 0.0669\n"
     ]
    },
    {
     "name": "stderr",
     "output_type": "stream",
     "text": [
      " 41%|███████████████▍                      | 1016/2500 [00:09<00:12, 115.68it/s]"
     ]
    },
    {
     "name": "stdout",
     "output_type": "stream",
     "text": [
      "Train Loss: 0.0387\tValidation Loss: 0.0649\n"
     ]
    },
    {
     "name": "stderr",
     "output_type": "stream",
     "text": [
      " 45%|█████████████████                     | 1119/2500 [00:10<00:12, 109.27it/s]"
     ]
    },
    {
     "name": "stdout",
     "output_type": "stream",
     "text": [
      "Train Loss: 0.0333\tValidation Loss: 0.0700\n"
     ]
    },
    {
     "name": "stderr",
     "output_type": "stream",
     "text": [
      " 49%|██████████████████▌                   | 1223/2500 [00:10<00:10, 120.82it/s]"
     ]
    },
    {
     "name": "stdout",
     "output_type": "stream",
     "text": [
      "Train Loss: 0.0347\tValidation Loss: 0.0594\n"
     ]
    },
    {
     "name": "stderr",
     "output_type": "stream",
     "text": [
      " 53%|████████████████████▏                 | 1325/2500 [00:11<00:09, 120.31it/s]"
     ]
    },
    {
     "name": "stdout",
     "output_type": "stream",
     "text": [
      "Train Loss: 0.0353\tValidation Loss: 0.0679\n"
     ]
    },
    {
     "name": "stderr",
     "output_type": "stream",
     "text": [
      " 57%|█████████████████████▌                | 1416/2500 [00:12<00:09, 113.86it/s]"
     ]
    },
    {
     "name": "stdout",
     "output_type": "stream",
     "text": [
      "Train Loss: 0.0339\tValidation Loss: 0.0601\n"
     ]
    },
    {
     "name": "stderr",
     "output_type": "stream",
     "text": [
      " 61%|███████████████████████               | 1520/2500 [00:13<00:08, 111.98it/s]"
     ]
    },
    {
     "name": "stdout",
     "output_type": "stream",
     "text": [
      "Train Loss: 0.0371\tValidation Loss: 0.0631\n"
     ]
    },
    {
     "name": "stderr",
     "output_type": "stream",
     "text": [
      " 65%|████████████████████████▋             | 1623/2500 [00:14<00:07, 119.34it/s]"
     ]
    },
    {
     "name": "stdout",
     "output_type": "stream",
     "text": [
      "Train Loss: 0.0294\tValidation Loss: 0.0572\n"
     ]
    },
    {
     "name": "stderr",
     "output_type": "stream",
     "text": [
      " 69%|██████████████████████████▏           | 1723/2500 [00:15<00:06, 118.19it/s]"
     ]
    },
    {
     "name": "stdout",
     "output_type": "stream",
     "text": [
      "Train Loss: 0.0260\tValidation Loss: 0.0591\n"
     ]
    },
    {
     "name": "stderr",
     "output_type": "stream",
     "text": [
      " 73%|███████████████████████████▊          | 1826/2500 [00:16<00:05, 120.31it/s]"
     ]
    },
    {
     "name": "stdout",
     "output_type": "stream",
     "text": [
      "Train Loss: 0.0289\tValidation Loss: 0.0590\n"
     ]
    },
    {
     "name": "stderr",
     "output_type": "stream",
     "text": [
      " 77%|█████████████████████████████         | 1916/2500 [00:16<00:05, 112.48it/s]"
     ]
    },
    {
     "name": "stdout",
     "output_type": "stream",
     "text": [
      "Train Loss: 0.0324\tValidation Loss: 0.0579\n"
     ]
    },
    {
     "name": "stderr",
     "output_type": "stream",
     "text": [
      " 81%|██████████████████████████████▋       | 2018/2500 [00:17<00:03, 122.71it/s]"
     ]
    },
    {
     "name": "stdout",
     "output_type": "stream",
     "text": [
      "Train Loss: 0.0233\tValidation Loss: 0.0603\n"
     ]
    },
    {
     "name": "stderr",
     "output_type": "stream",
     "text": [
      " 85%|████████████████████████████████▎     | 2122/2500 [00:18<00:03, 120.80it/s]"
     ]
    },
    {
     "name": "stdout",
     "output_type": "stream",
     "text": [
      "Train Loss: 0.0253\tValidation Loss: 0.0618\n"
     ]
    },
    {
     "name": "stderr",
     "output_type": "stream",
     "text": [
      " 89%|█████████████████████████████████▊    | 2224/2500 [00:19<00:02, 119.56it/s]"
     ]
    },
    {
     "name": "stdout",
     "output_type": "stream",
     "text": [
      "Train Loss: 0.0261\tValidation Loss: 0.0576\n"
     ]
    },
    {
     "name": "stderr",
     "output_type": "stream",
     "text": [
      " 93%|███████████████████████████████████▎  | 2322/2500 [00:20<00:01, 108.97it/s]"
     ]
    },
    {
     "name": "stdout",
     "output_type": "stream",
     "text": [
      "Train Loss: 0.0223\tValidation Loss: 0.0568\n"
     ]
    },
    {
     "name": "stderr",
     "output_type": "stream",
     "text": [
      " 96%|████████████████████████████████████▋ | 2412/2500 [00:21<00:00, 120.34it/s]"
     ]
    },
    {
     "name": "stdout",
     "output_type": "stream",
     "text": [
      "Train Loss: 0.0237\tValidation Loss: 0.0595\n"
     ]
    },
    {
     "name": "stderr",
     "output_type": "stream",
     "text": [
      "100%|██████████████████████████████████████| 2500/2500 [00:21<00:00, 113.93it/s]\n"
     ]
    },
    {
     "name": "stdout",
     "output_type": "stream",
     "text": [
      "TOTAL EVALUATION LOSS: 12.65069\n"
     ]
    },
    {
     "data": {
      "image/png": "[encoded data removed]",
      "text/plain": [
       "<Figure size 800x600 with 1 Axes>"
      ]
     },
     "metadata": {},
     "output_type": "display_data"
    }
   ],
   "source": [
    "if __name__ == '__main__':\n",
    "    torch.manual_seed(137)\n",
    "    \n",
    "    # Load in the provided data\n",
    "    train_data = np.load('train_data.npy')\n",
    "    print(train_data.shape)\n",
    "    validation_data = np.load('validation_data.npy')\n",
    "    test_data = np.load('test_data.npy')\n",
    "\n",
    "    model = NeuralNetwork()\n",
    "    \n",
    "    trained_model = train(model, train_data, validation_data)\n",
    "    evaluate(trained_model, test_data)\n",
    "\n",
    "    # Load your training data and call the provided plot function. Loss function and reduction scheme are\n",
    "    # required for the plotting function.\n",
    "    train_losses = np.load(\"./train_losses.npy\")\n",
    "    val_losses = np.load(\"./val_losses.npy\")\n",
    "\n",
    "    plot_training_curves(train_losses, val_losses, \"MSE\", \"mean\")"
   ]
  },
  {
   "cell_type": "markdown",
   "id": "9fda06b7",
   "metadata": {},
   "source": [
    "## f) Run 4 different hyperparameter combinations and explain the differences in results\n",
    "\n",
    "I have tried 4 different combinations as below: \n",
    "\n",
    "Mode1: learning_rate = 0.01 (instead of learning_rate =  0.001 in the main code)\n",
    "\n",
    "Mode2: weight_decay = 0.01 (instead of weight_decay = 0.001 in the main code)\n",
    "\n",
    "Mode3: epochs = 1000 (instead of epochs = 2500 in the main code)\n",
    "\n",
    "Mode4: removing 2 last hidden layers  \n",
    "\n",
    "\n",
    "Explaining each the results of each mode:\n",
    "\n",
    "Mode 1: by increasing learning rate to 0.01, we still have an acceptable total loss value for the test data set, and we see that we are getting a curve, as expected and discribed in the HW discription.\n",
    "\n",
    "Mode 2: by increasing weight decay to 0.01, we get a very large value for total loss value of the test data set, and we see that loss curve for training and validation dataset is osccilating, which implies the model performance is not acceptable.\n",
    "\n",
    "Mode 3:\n",
    "By decreasing number of epochs, we get acceptable total loss, meaning that we could have used lower number of epochs for almost the same level of accuracy, which could help in decreasing computational cost.\n",
    "\n",
    "Mode 4:By removing two of the hidden layers, we decrease the depth of our neural network, which results in a larger value for total loss of test data. Therefore, removing these layers from our neural net is not recommended."
   ]
  },
  {
   "cell_type": "code",
   "execution_count": 59,
   "id": "e4ec49a0",
   "metadata": {},
   "outputs": [
    {
     "name": "stdout",
     "output_type": "stream",
     "text": [
      "Mode 1 results\n",
      "(903, 6)\n"
     ]
    },
    {
     "name": "stderr",
     "output_type": "stream",
     "text": [
      "  0%|                                                  | 0/2500 [00:00<?, ?it/s]"
     ]
    },
    {
     "name": "stdout",
     "output_type": "stream",
     "text": [
      "Train Loss: 2.0043\tValidation Loss: 1.0199\n"
     ]
    },
    {
     "name": "stderr",
     "output_type": "stream",
     "text": [
      "  5%|█▉                                     | 123/2500 [00:01<00:20, 117.78it/s]"
     ]
    },
    {
     "name": "stdout",
     "output_type": "stream",
     "text": [
      "Train Loss: 0.1014\tValidation Loss: 0.0845\n"
     ]
    },
    {
     "name": "stderr",
     "output_type": "stream",
     "text": [
      "  9%|███▍                                   | 223/2500 [00:01<00:19, 115.28it/s]"
     ]
    },
    {
     "name": "stdout",
     "output_type": "stream",
     "text": [
      "Train Loss: 0.0938\tValidation Loss: 0.1094\n"
     ]
    },
    {
     "name": "stderr",
     "output_type": "stream",
     "text": [
      " 13%|████▉                                  | 313/2500 [00:02<00:19, 110.66it/s]"
     ]
    },
    {
     "name": "stdout",
     "output_type": "stream",
     "text": [
      "Train Loss: 0.0770\tValidation Loss: 0.1126\n"
     ]
    },
    {
     "name": "stderr",
     "output_type": "stream",
     "text": [
      " 17%|██████▍                                | 416/2500 [00:03<00:17, 122.07it/s]"
     ]
    },
    {
     "name": "stdout",
     "output_type": "stream",
     "text": [
      "Train Loss: 0.0515\tValidation Loss: 0.0674\n"
     ]
    },
    {
     "name": "stderr",
     "output_type": "stream",
     "text": [
      " 21%|████████                               | 519/2500 [00:04<00:16, 119.80it/s]"
     ]
    },
    {
     "name": "stdout",
     "output_type": "stream",
     "text": [
      "Train Loss: 0.0565\tValidation Loss: 0.0784\n"
     ]
    },
    {
     "name": "stderr",
     "output_type": "stream",
     "text": [
      " 25%|█████████▋                             | 621/2500 [00:05<00:15, 117.51it/s]"
     ]
    },
    {
     "name": "stdout",
     "output_type": "stream",
     "text": [
      "Train Loss: 0.0399\tValidation Loss: 0.0680\n"
     ]
    },
    {
     "name": "stderr",
     "output_type": "stream",
     "text": [
      " 29%|███████████▎                           | 725/2500 [00:06<00:15, 116.06it/s]"
     ]
    },
    {
     "name": "stdout",
     "output_type": "stream",
     "text": [
      "Train Loss: 0.0395\tValidation Loss: 0.0673\n"
     ]
    },
    {
     "name": "stderr",
     "output_type": "stream",
     "text": [
      " 32%|████████████▋                          | 812/2500 [00:07<00:13, 121.79it/s]"
     ]
    },
    {
     "name": "stdout",
     "output_type": "stream",
     "text": [
      "Train Loss: 0.0641\tValidation Loss: 0.0913\n"
     ]
    },
    {
     "name": "stderr",
     "output_type": "stream",
     "text": [
      " 37%|██████████████▏                        | 913/2500 [00:07<00:13, 120.40it/s]"
     ]
    },
    {
     "name": "stdout",
     "output_type": "stream",
     "text": [
      "Train Loss: 0.0379\tValidation Loss: 0.0673\n"
     ]
    },
    {
     "name": "stderr",
     "output_type": "stream",
     "text": [
      " 41%|███████████████▍                      | 1016/2500 [00:08<00:12, 119.28it/s]"
     ]
    },
    {
     "name": "stdout",
     "output_type": "stream",
     "text": [
      "Train Loss: 0.0247\tValidation Loss: 0.0618\n"
     ]
    },
    {
     "name": "stderr",
     "output_type": "stream",
     "text": [
      " 45%|█████████████████                     | 1119/2500 [00:09<00:12, 114.02it/s]"
     ]
    },
    {
     "name": "stdout",
     "output_type": "stream",
     "text": [
      "Train Loss: 0.0645\tValidation Loss: 0.0861\n"
     ]
    },
    {
     "name": "stderr",
     "output_type": "stream",
     "text": [
      " 48%|██████████████████▍                   | 1209/2500 [00:10<00:10, 122.70it/s]"
     ]
    },
    {
     "name": "stdout",
     "output_type": "stream",
     "text": [
      "Train Loss: 0.0321\tValidation Loss: 0.0674\n"
     ]
    },
    {
     "name": "stderr",
     "output_type": "stream",
     "text": [
      " 53%|████████████████████                  | 1324/2500 [00:11<00:09, 119.25it/s]"
     ]
    },
    {
     "name": "stdout",
     "output_type": "stream",
     "text": [
      "Train Loss: 0.0390\tValidation Loss: 0.0752\n"
     ]
    },
    {
     "name": "stderr",
     "output_type": "stream",
     "text": [
      " 57%|█████████████████████▋                | 1423/2500 [00:12<00:09, 118.51it/s]"
     ]
    },
    {
     "name": "stdout",
     "output_type": "stream",
     "text": [
      "Train Loss: 0.0320\tValidation Loss: 0.0758\n"
     ]
    },
    {
     "name": "stderr",
     "output_type": "stream",
     "text": [
      " 61%|███████████████████████▏              | 1526/2500 [00:13<00:08, 117.96it/s]"
     ]
    },
    {
     "name": "stdout",
     "output_type": "stream",
     "text": [
      "Train Loss: 0.0649\tValidation Loss: 0.0653\n"
     ]
    },
    {
     "name": "stderr",
     "output_type": "stream",
     "text": [
      " 65%|████████████████████████▌             | 1616/2500 [00:13<00:08, 101.04it/s]"
     ]
    },
    {
     "name": "stdout",
     "output_type": "stream",
     "text": [
      "Train Loss: 0.0450\tValidation Loss: 0.1138\n"
     ]
    },
    {
     "name": "stderr",
     "output_type": "stream",
     "text": [
      " 69%|██████████████████████████            | 1714/2500 [00:14<00:06, 121.05it/s]"
     ]
    },
    {
     "name": "stdout",
     "output_type": "stream",
     "text": [
      "Train Loss: 0.0419\tValidation Loss: 0.0698\n"
     ]
    },
    {
     "name": "stderr",
     "output_type": "stream",
     "text": [
      " 73%|███████████████████████████▋          | 1818/2500 [00:15<00:05, 120.79it/s]"
     ]
    },
    {
     "name": "stdout",
     "output_type": "stream",
     "text": [
      "Train Loss: 0.0489\tValidation Loss: 0.0836\n"
     ]
    },
    {
     "name": "stderr",
     "output_type": "stream",
     "text": [
      " 77%|█████████████████████████████▏        | 1920/2500 [00:16<00:04, 119.27it/s]"
     ]
    },
    {
     "name": "stdout",
     "output_type": "stream",
     "text": [
      "Train Loss: 0.0229\tValidation Loss: 0.0677\n"
     ]
    },
    {
     "name": "stderr",
     "output_type": "stream",
     "text": [
      " 81%|██████████████████████████████▊       | 2024/2500 [00:17<00:04, 112.89it/s]"
     ]
    },
    {
     "name": "stdout",
     "output_type": "stream",
     "text": [
      "Train Loss: 0.0455\tValidation Loss: 0.0916\n"
     ]
    },
    {
     "name": "stderr",
     "output_type": "stream",
     "text": [
      " 85%|████████████████████████████████▏     | 2114/2500 [00:18<00:03, 120.73it/s]"
     ]
    },
    {
     "name": "stdout",
     "output_type": "stream",
     "text": [
      "Train Loss: 0.0534\tValidation Loss: 0.0694\n"
     ]
    },
    {
     "name": "stderr",
     "output_type": "stream",
     "text": [
      " 89%|█████████████████████████████████▋    | 2214/2500 [00:19<00:02, 119.01it/s]"
     ]
    },
    {
     "name": "stdout",
     "output_type": "stream",
     "text": [
      "Train Loss: 0.0251\tValidation Loss: 0.0745\n"
     ]
    },
    {
     "name": "stderr",
     "output_type": "stream",
     "text": [
      " 93%|███████████████████████████████████▏  | 2313/2500 [00:19<00:01, 118.47it/s]"
     ]
    },
    {
     "name": "stdout",
     "output_type": "stream",
     "text": [
      "Train Loss: 0.0326\tValidation Loss: 0.0711\n"
     ]
    },
    {
     "name": "stderr",
     "output_type": "stream",
     "text": [
      " 97%|████████████████████████████████████▋ | 2417/2500 [00:20<00:00, 110.59it/s]"
     ]
    },
    {
     "name": "stdout",
     "output_type": "stream",
     "text": [
      "Train Loss: 0.0479\tValidation Loss: 0.0853\n"
     ]
    },
    {
     "name": "stderr",
     "output_type": "stream",
     "text": [
      "100%|██████████████████████████████████████| 2500/2500 [00:21<00:00, 116.15it/s]\n"
     ]
    },
    {
     "name": "stdout",
     "output_type": "stream",
     "text": [
      "TOTAL EVALUATION LOSS: 14.70832\n"
     ]
    },
    {
     "data": {
      "image/png": "[encoded data removed]",
      "text/plain": [
       "<Figure size 800x600 with 1 Axes>"
      ]
     },
     "metadata": {},
     "output_type": "display_data"
    }
   ],
   "source": [
    "def train(model, train_data, validation_data):\n",
    "\n",
    "    ###\n",
    "    #  Modify these parameters\n",
    "    ###\n",
    "    loss_fn = torch.nn.MSELoss()\n",
    "    epochs = 2500\n",
    "    learning_rate = 0.01\n",
    "    weight_decay = 0.001\n",
    "    batch_size = 600\n",
    "\n",
    "    # Set up data\n",
    "    train_loader = DataLoader(Dataset(train_data), batch_size=batch_size, shuffle=True)\n",
    "    validation_loader = DataLoader(Dataset(validation_data), batch_size=batch_size)\n",
    "\n",
    "    # The Adam optimizer is recommended for this assignment.\n",
    "    optimizer = torch.optim.Adam(model.parameters(), lr=learning_rate, weight_decay=weight_decay)\n",
    "\n",
    "    train_losses, val_losses = [], []\n",
    "    for ep in tqdm(range(epochs)):\n",
    "        \n",
    "        model.train()\n",
    "        train_loss = 0\n",
    "        for x, y in train_loader:\n",
    "            optimizer.zero_grad()\n",
    "            pred = model(x)\n",
    "            loss = loss_fn(pred, y)\n",
    "            loss.backward()\n",
    "            optimizer.step()\n",
    "            train_loss += loss.item()\n",
    "            \n",
    "        model.eval()\n",
    "        val_loss = 0\n",
    "            \n",
    "        with torch.no_grad():\n",
    "            for x, y in validation_loader:\n",
    "                \n",
    "                pred = model(x)\n",
    "                loss = loss_fn(pred, y)\n",
    "                val_loss += loss.item()\n",
    "                \n",
    "        train_losses.append(train_loss / len(train_loader))\n",
    "        val_losses.append(val_loss / len(validation_loader))\n",
    "\n",
    "\n",
    "        # Feel free to modify how frequently training progress is printed\n",
    "        \n",
    "        if(ep%100 == 0):\n",
    "            print(\"Train Loss: {0:.4f}\\tValidation Loss: {1:.4f}\".format(train_loss, val_loss))\n",
    "\n",
    "        # Hold on to losses for easy saving and plotting\n",
    "    \n",
    "    # Save your losses as .npy files\n",
    "    np.save(\"./train_losses.npy\", train_losses)\n",
    "    np.save(\"./val_losses.npy\", val_losses)\n",
    "\n",
    "    # Save the model as ./p1_model.pt\n",
    "    torch.save(model.state_dict(), \"./p2_model.pt\")\n",
    "    return model\n",
    "\n",
    "\n",
    "print(\"Mode 1 results\")\n",
    "\n",
    "if __name__ == '__main__':\n",
    "    torch.manual_seed(137)\n",
    "    \n",
    "    # Load in the provided data\n",
    "    train_data = np.load('train_data.npy')\n",
    "    print(train_data.shape)\n",
    "    validation_data = np.load('validation_data.npy')\n",
    "    test_data = np.load('test_data.npy')\n",
    "\n",
    "    model = NeuralNetwork()\n",
    "    \n",
    "    trained_model = train(model, train_data, validation_data)\n",
    "    evaluate(trained_model, test_data)\n",
    "\n",
    "    # Load your training data and call the provided plot function. Loss function and reduction scheme are\n",
    "    # required for the plotting function.\n",
    "    train_losses = np.load(\"./train_losses.npy\")\n",
    "    val_losses = np.load(\"./val_losses.npy\")\n",
    "\n",
    "    plot_training_curves(train_losses, val_losses, \"MSE\", \"mean\")\n"
   ]
  },
  {
   "cell_type": "code",
   "execution_count": 60,
   "id": "d0d9f46a",
   "metadata": {},
   "outputs": [
    {
     "name": "stdout",
     "output_type": "stream",
     "text": [
      "Mode 2 results\n",
      "(903, 6)\n"
     ]
    },
    {
     "name": "stderr",
     "output_type": "stream",
     "text": [
      "  0%|                                                  | 0/2500 [00:00<?, ?it/s]"
     ]
    },
    {
     "name": "stdout",
     "output_type": "stream",
     "text": [
      "Train Loss: 2.0131\tValidation Loss: 1.0514\n"
     ]
    },
    {
     "name": "stderr",
     "output_type": "stream",
     "text": [
      "  5%|█▉                                     | 122/2500 [00:01<00:19, 121.29it/s]"
     ]
    },
    {
     "name": "stdout",
     "output_type": "stream",
     "text": [
      "Train Loss: 1.9893\tValidation Loss: 1.0137\n"
     ]
    },
    {
     "name": "stderr",
     "output_type": "stream",
     "text": [
      "  9%|███▌                                   | 225/2500 [00:01<00:19, 119.34it/s]"
     ]
    },
    {
     "name": "stdout",
     "output_type": "stream",
     "text": [
      "Train Loss: 1.9797\tValidation Loss: 1.0125\n"
     ]
    },
    {
     "name": "stderr",
     "output_type": "stream",
     "text": [
      " 13%|████▉                                  | 315/2500 [00:02<00:19, 114.82it/s]"
     ]
    },
    {
     "name": "stdout",
     "output_type": "stream",
     "text": [
      "Train Loss: 2.0057\tValidation Loss: 1.0132\n"
     ]
    },
    {
     "name": "stderr",
     "output_type": "stream",
     "text": [
      " 16%|██████▎                                | 407/2500 [00:03<00:17, 121.50it/s]"
     ]
    },
    {
     "name": "stdout",
     "output_type": "stream",
     "text": [
      "Train Loss: 1.9970\tValidation Loss: 1.0122\n"
     ]
    },
    {
     "name": "stderr",
     "output_type": "stream",
     "text": [
      " 21%|████████▏                              | 522/2500 [00:04<00:16, 120.77it/s]"
     ]
    },
    {
     "name": "stdout",
     "output_type": "stream",
     "text": [
      "Train Loss: 2.0093\tValidation Loss: 1.0124\n"
     ]
    },
    {
     "name": "stderr",
     "output_type": "stream",
     "text": [
      " 25%|█████████▌                             | 613/2500 [00:05<00:15, 121.45it/s]"
     ]
    },
    {
     "name": "stdout",
     "output_type": "stream",
     "text": [
      "Train Loss: 1.9992\tValidation Loss: 1.0123\n"
     ]
    },
    {
     "name": "stderr",
     "output_type": "stream",
     "text": [
      " 29%|███████████▏                           | 716/2500 [00:06<00:15, 117.22it/s]"
     ]
    },
    {
     "name": "stdout",
     "output_type": "stream",
     "text": [
      "Train Loss: 2.0025\tValidation Loss: 1.0135\n"
     ]
    },
    {
     "name": "stderr",
     "output_type": "stream",
     "text": [
      " 33%|████████████▊                          | 818/2500 [00:07<00:15, 109.70it/s]"
     ]
    },
    {
     "name": "stdout",
     "output_type": "stream",
     "text": [
      "Train Loss: 2.0026\tValidation Loss: 1.0124\n"
     ]
    },
    {
     "name": "stderr",
     "output_type": "stream",
     "text": [
      " 37%|██████████████▎                        | 920/2500 [00:07<00:12, 124.90it/s]"
     ]
    },
    {
     "name": "stdout",
     "output_type": "stream",
     "text": [
      "Train Loss: 2.0355\tValidation Loss: 1.0124\n"
     ]
    },
    {
     "name": "stderr",
     "output_type": "stream",
     "text": [
      " 41%|███████████████▍                      | 1016/2500 [00:08<00:13, 113.81it/s]"
     ]
    },
    {
     "name": "stdout",
     "output_type": "stream",
     "text": [
      "Train Loss: 2.0153\tValidation Loss: 1.0115\n"
     ]
    },
    {
     "name": "stderr",
     "output_type": "stream",
     "text": [
      " 45%|████████████████▉                     | 1114/2500 [00:09<00:12, 113.11it/s]"
     ]
    },
    {
     "name": "stdout",
     "output_type": "stream",
     "text": [
      "Train Loss: 2.0138\tValidation Loss: 1.0125\n"
     ]
    },
    {
     "name": "stderr",
     "output_type": "stream",
     "text": [
      " 49%|██████████████████▍                   | 1217/2500 [00:10<00:11, 109.35it/s]"
     ]
    },
    {
     "name": "stdout",
     "output_type": "stream",
     "text": [
      "Train Loss: 2.0107\tValidation Loss: 1.0117\n"
     ]
    },
    {
     "name": "stderr",
     "output_type": "stream",
     "text": [
      " 53%|████████████████████                  | 1319/2500 [00:11<00:09, 119.89it/s]"
     ]
    },
    {
     "name": "stdout",
     "output_type": "stream",
     "text": [
      "Train Loss: 1.9674\tValidation Loss: 1.0135\n"
     ]
    },
    {
     "name": "stderr",
     "output_type": "stream",
     "text": [
      " 57%|█████████████████████▌                | 1421/2500 [00:12<00:08, 120.76it/s]"
     ]
    },
    {
     "name": "stdout",
     "output_type": "stream",
     "text": [
      "Train Loss: 2.0116\tValidation Loss: 1.0123\n"
     ]
    },
    {
     "name": "stderr",
     "output_type": "stream",
     "text": [
      " 61%|███████████████████████▏              | 1522/2500 [00:13<00:08, 116.34it/s]"
     ]
    },
    {
     "name": "stdout",
     "output_type": "stream",
     "text": [
      "Train Loss: 2.0068\tValidation Loss: 1.0129\n"
     ]
    },
    {
     "name": "stderr",
     "output_type": "stream",
     "text": [
      " 65%|████████████████████████▋             | 1625/2500 [00:14<00:07, 115.96it/s]"
     ]
    },
    {
     "name": "stdout",
     "output_type": "stream",
     "text": [
      "Train Loss: 1.9744\tValidation Loss: 1.0129\n"
     ]
    },
    {
     "name": "stderr",
     "output_type": "stream",
     "text": [
      " 69%|██████████████████████████            | 1714/2500 [00:14<00:06, 117.41it/s]"
     ]
    },
    {
     "name": "stdout",
     "output_type": "stream",
     "text": [
      "Train Loss: 1.9685\tValidation Loss: 1.0123\n"
     ]
    },
    {
     "name": "stderr",
     "output_type": "stream",
     "text": [
      " 73%|███████████████████████████▌          | 1815/2500 [00:15<00:05, 117.65it/s]"
     ]
    },
    {
     "name": "stdout",
     "output_type": "stream",
     "text": [
      "Train Loss: 2.0035\tValidation Loss: 1.0124\n"
     ]
    },
    {
     "name": "stderr",
     "output_type": "stream",
     "text": [
      " 77%|█████████████████████████████▏        | 1917/2500 [00:16<00:04, 117.78it/s]"
     ]
    },
    {
     "name": "stdout",
     "output_type": "stream",
     "text": [
      "Train Loss: 2.0089\tValidation Loss: 1.0125\n"
     ]
    },
    {
     "name": "stderr",
     "output_type": "stream",
     "text": [
      " 81%|██████████████████████████████▋       | 2017/2500 [00:17<00:04, 111.69it/s]"
     ]
    },
    {
     "name": "stdout",
     "output_type": "stream",
     "text": [
      "Train Loss: 2.0061\tValidation Loss: 1.0127\n"
     ]
    },
    {
     "name": "stderr",
     "output_type": "stream",
     "text": [
      " 85%|████████████████████████████████▏     | 2116/2500 [00:18<00:03, 105.08it/s]"
     ]
    },
    {
     "name": "stdout",
     "output_type": "stream",
     "text": [
      "Train Loss: 2.0083\tValidation Loss: 1.0130\n"
     ]
    },
    {
     "name": "stderr",
     "output_type": "stream",
     "text": [
      " 89%|█████████████████████████████████▋    | 2215/2500 [00:19<00:02, 111.19it/s]"
     ]
    },
    {
     "name": "stdout",
     "output_type": "stream",
     "text": [
      "Train Loss: 2.0361\tValidation Loss: 1.0134\n"
     ]
    },
    {
     "name": "stderr",
     "output_type": "stream",
     "text": [
      " 93%|███████████████████████████████████▏  | 2318/2500 [00:20<00:01, 121.85it/s]"
     ]
    },
    {
     "name": "stdout",
     "output_type": "stream",
     "text": [
      "Train Loss: 2.0266\tValidation Loss: 1.0131\n"
     ]
    },
    {
     "name": "stderr",
     "output_type": "stream",
     "text": [
      " 97%|████████████████████████████████████▊ | 2420/2500 [00:21<00:00, 112.54it/s]"
     ]
    },
    {
     "name": "stdout",
     "output_type": "stream",
     "text": [
      "Train Loss: 1.9852\tValidation Loss: 1.0127\n"
     ]
    },
    {
     "name": "stderr",
     "output_type": "stream",
     "text": [
      "100%|██████████████████████████████████████| 2500/2500 [00:21<00:00, 114.77it/s]\n"
     ]
    },
    {
     "name": "stdout",
     "output_type": "stream",
     "text": [
      "TOTAL EVALUATION LOSS: 276.50009\n"
     ]
    },
    {
     "data": {
      "image/png": "[encoded data removed]",
      "text/plain": [
       "<Figure size 800x600 with 1 Axes>"
      ]
     },
     "metadata": {},
     "output_type": "display_data"
    }
   ],
   "source": [
    "def train(model, train_data, validation_data):\n",
    "\n",
    "    ###\n",
    "    #  Modify these parameters\n",
    "    ###\n",
    "    loss_fn = torch.nn.MSELoss()\n",
    "    epochs = 2500\n",
    "    learning_rate = 0.001\n",
    "    weight_decay = 0.01\n",
    "    batch_size = 600\n",
    "\n",
    "    # Set up data\n",
    "    train_loader = DataLoader(Dataset(train_data), batch_size=batch_size, shuffle=True)\n",
    "    validation_loader = DataLoader(Dataset(validation_data), batch_size=batch_size)\n",
    "\n",
    "    # The Adam optimizer is recommended for this assignment.\n",
    "    optimizer = torch.optim.Adam(model.parameters(), lr=learning_rate, weight_decay=weight_decay)\n",
    "\n",
    "    train_losses, val_losses = [], []\n",
    "    for ep in tqdm(range(epochs)):\n",
    "        \n",
    "        model.train()\n",
    "        train_loss = 0\n",
    "        for x, y in train_loader:\n",
    "            optimizer.zero_grad()\n",
    "            pred = model(x)\n",
    "            loss = loss_fn(pred, y)\n",
    "            loss.backward()\n",
    "            optimizer.step()\n",
    "            train_loss += loss.item()\n",
    "            \n",
    "        model.eval()\n",
    "        val_loss = 0\n",
    "            \n",
    "        with torch.no_grad():\n",
    "            for x, y in validation_loader:\n",
    "                \n",
    "                pred = model(x)\n",
    "                loss = loss_fn(pred, y)\n",
    "                val_loss += loss.item()\n",
    "                \n",
    "        train_losses.append(train_loss / len(train_loader))\n",
    "        val_losses.append(val_loss / len(validation_loader))\n",
    "\n",
    "\n",
    "        # Feel free to modify how frequently training progress is printed\n",
    "        \n",
    "        if(ep%100 == 0):\n",
    "            print(\"Train Loss: {0:.4f}\\tValidation Loss: {1:.4f}\".format(train_loss, val_loss))\n",
    "\n",
    "        # Hold on to losses for easy saving and plotting\n",
    "    \n",
    "    # Save your losses as .npy files\n",
    "    np.save(\"./train_losses.npy\", train_losses)\n",
    "    np.save(\"./val_losses.npy\", val_losses)\n",
    "\n",
    "    # Save the model as ./p1_model.pt\n",
    "    torch.save(model.state_dict(), \"./p3_model.pt\")\n",
    "    return model\n",
    "\n",
    "\n",
    "print(\"Mode 2 results\")\n",
    "\n",
    "if __name__ == '__main__':\n",
    "    torch.manual_seed(137)\n",
    "    \n",
    "    # Load in the provided data\n",
    "    train_data = np.load('train_data.npy')\n",
    "    print(train_data.shape)\n",
    "    validation_data = np.load('validation_data.npy')\n",
    "    test_data = np.load('test_data.npy')\n",
    "\n",
    "    model = NeuralNetwork()\n",
    "    \n",
    "    trained_model = train(model, train_data, validation_data)\n",
    "    evaluate(trained_model, test_data)\n",
    "\n",
    "    # Load your training data and call the provided plot function. Loss function and reduction scheme are\n",
    "    # required for the plotting function.\n",
    "    train_losses = np.load(\"./train_losses.npy\")\n",
    "    val_losses = np.load(\"./val_losses.npy\")\n",
    "\n",
    "    plot_training_curves(train_losses, val_losses, \"MSE\", \"mean\")\n",
    "\n",
    "    \n",
    "    "
   ]
  },
  {
   "cell_type": "code",
   "execution_count": 61,
   "id": "9b5c1900",
   "metadata": {},
   "outputs": [
    {
     "name": "stdout",
     "output_type": "stream",
     "text": [
      "Mode 3 results\n",
      "(903, 6)\n"
     ]
    },
    {
     "name": "stderr",
     "output_type": "stream",
     "text": [
      "  0%|                                                  | 0/1000 [00:00<?, ?it/s]"
     ]
    },
    {
     "name": "stdout",
     "output_type": "stream",
     "text": [
      "Train Loss: 2.0128\tValidation Loss: 1.0505\n"
     ]
    },
    {
     "name": "stderr",
     "output_type": "stream",
     "text": [
      " 11%|████▍                                  | 113/1000 [00:01<00:07, 117.64it/s]"
     ]
    },
    {
     "name": "stdout",
     "output_type": "stream",
     "text": [
      "Train Loss: 0.2316\tValidation Loss: 0.1662\n"
     ]
    },
    {
     "name": "stderr",
     "output_type": "stream",
     "text": [
      " 22%|████████▍                              | 215/1000 [00:01<00:06, 121.17it/s]"
     ]
    },
    {
     "name": "stdout",
     "output_type": "stream",
     "text": [
      "Train Loss: 0.0985\tValidation Loss: 0.0898\n"
     ]
    },
    {
     "name": "stderr",
     "output_type": "stream",
     "text": [
      " 31%|████████████▏                          | 314/1000 [00:02<00:06, 110.18it/s]"
     ]
    },
    {
     "name": "stdout",
     "output_type": "stream",
     "text": [
      "Train Loss: 0.0751\tValidation Loss: 0.0854\n"
     ]
    },
    {
     "name": "stderr",
     "output_type": "stream",
     "text": [
      " 42%|████████████████▎                      | 417/1000 [00:03<00:05, 112.00it/s]"
     ]
    },
    {
     "name": "stdout",
     "output_type": "stream",
     "text": [
      "Train Loss: 0.0651\tValidation Loss: 0.0771\n"
     ]
    },
    {
     "name": "stderr",
     "output_type": "stream",
     "text": [
      " 52%|████████████████████▎                  | 521/1000 [00:04<00:03, 120.98it/s]"
     ]
    },
    {
     "name": "stdout",
     "output_type": "stream",
     "text": [
      "Train Loss: 0.0554\tValidation Loss: 0.0730\n"
     ]
    },
    {
     "name": "stderr",
     "output_type": "stream",
     "text": [
      " 62%|████████████████████████▎              | 624/1000 [00:05<00:03, 121.61it/s]"
     ]
    },
    {
     "name": "stdout",
     "output_type": "stream",
     "text": [
      "Train Loss: 0.0616\tValidation Loss: 0.0681\n"
     ]
    },
    {
     "name": "stderr",
     "output_type": "stream",
     "text": [
      " 72%|████████████████████████████▏          | 724/1000 [00:06<00:02, 114.70it/s]"
     ]
    },
    {
     "name": "stdout",
     "output_type": "stream",
     "text": [
      "Train Loss: 0.0508\tValidation Loss: 0.0681\n"
     ]
    },
    {
     "name": "stderr",
     "output_type": "stream",
     "text": [
      " 82%|███████████████████████████████▊       | 815/1000 [00:07<00:01, 112.11it/s]"
     ]
    },
    {
     "name": "stdout",
     "output_type": "stream",
     "text": [
      "Train Loss: 0.0443\tValidation Loss: 0.0638\n"
     ]
    },
    {
     "name": "stderr",
     "output_type": "stream",
     "text": [
      " 91%|███████████████████████████████████▋   | 914/1000 [00:08<00:00, 110.32it/s]"
     ]
    },
    {
     "name": "stdout",
     "output_type": "stream",
     "text": [
      "Train Loss: 0.0432\tValidation Loss: 0.0669\n"
     ]
    },
    {
     "name": "stderr",
     "output_type": "stream",
     "text": [
      "100%|██████████████████████████████████████| 1000/1000 [00:08<00:00, 113.63it/s]\n"
     ]
    },
    {
     "name": "stdout",
     "output_type": "stream",
     "text": [
      "TOTAL EVALUATION LOSS: 14.63223\n"
     ]
    },
    {
     "data": {
      "image/png": "[encoded data removed]",
      "text/plain": [
       "<Figure size 800x600 with 1 Axes>"
      ]
     },
     "metadata": {},
     "output_type": "display_data"
    }
   ],
   "source": [
    "def train(model, train_data, validation_data):\n",
    "\n",
    "    ###\n",
    "    #  Modify these parameters\n",
    "    ###\n",
    "    loss_fn = torch.nn.MSELoss()\n",
    "    epochs = 1000\n",
    "    learning_rate = 0.001\n",
    "    weight_decay = 0.001\n",
    "    batch_size = 600\n",
    "\n",
    "    # Set up data\n",
    "    train_loader = DataLoader(Dataset(train_data), batch_size=batch_size, shuffle=True)\n",
    "    validation_loader = DataLoader(Dataset(validation_data), batch_size=batch_size)\n",
    "\n",
    "    # The Adam optimizer is recommended for this assignment.\n",
    "    optimizer = torch.optim.Adam(model.parameters(), lr=learning_rate, weight_decay=weight_decay)\n",
    "\n",
    "    train_losses, val_losses = [], []\n",
    "    for ep in tqdm(range(epochs)):\n",
    "        \n",
    "        model.train()\n",
    "        train_loss = 0\n",
    "        for x, y in train_loader:\n",
    "            optimizer.zero_grad()\n",
    "            pred = model(x)\n",
    "            loss = loss_fn(pred, y)\n",
    "            loss.backward()\n",
    "            optimizer.step()\n",
    "            train_loss += loss.item()\n",
    "            \n",
    "        model.eval()\n",
    "        val_loss = 0\n",
    "            \n",
    "        with torch.no_grad():\n",
    "            for x, y in validation_loader:\n",
    "                \n",
    "                pred = model(x)\n",
    "                loss = loss_fn(pred, y)\n",
    "                val_loss += loss.item()\n",
    "                \n",
    "        train_losses.append(train_loss / len(train_loader))\n",
    "        val_losses.append(val_loss / len(validation_loader))\n",
    "\n",
    "\n",
    "        # Feel free to modify how frequently training progress is printed\n",
    "        \n",
    "        if(ep%100 == 0):\n",
    "            print(\"Train Loss: {0:.4f}\\tValidation Loss: {1:.4f}\".format(train_loss, val_loss))\n",
    "\n",
    "        # Hold on to losses for easy saving and plotting\n",
    "    \n",
    "    # Save your losses as .npy files\n",
    "    np.save(\"./train_losses.npy\", train_losses)\n",
    "    np.save(\"./val_losses.npy\", val_losses)\n",
    "\n",
    "    # Save the model as ./p1_model.pt\n",
    "    torch.save(model.state_dict(), \"./p4_model.pt\")\n",
    "    return model\n",
    "\n",
    "\n",
    "print(\"Mode 3 results\")\n",
    "\n",
    "if __name__ == '__main__':\n",
    "    torch.manual_seed(137)\n",
    "    \n",
    "    # Load in the provided data\n",
    "    train_data = np.load('train_data.npy')\n",
    "    print(train_data.shape)\n",
    "    validation_data = np.load('validation_data.npy')\n",
    "    test_data = np.load('test_data.npy')\n",
    "\n",
    "    model = NeuralNetwork()\n",
    "    \n",
    "    trained_model = train(model, train_data, validation_data)\n",
    "    evaluate(trained_model, test_data)\n",
    "\n",
    "    # Load your training data and call the provided plot function. Loss function and reduction scheme are\n",
    "    # required for the plotting function.\n",
    "    train_losses = np.load(\"./train_losses.npy\")\n",
    "    val_losses = np.load(\"./val_losses.npy\")\n",
    "\n",
    "    plot_training_curves(train_losses, val_losses, \"MSE\", \"mean\")"
   ]
  },
  {
   "cell_type": "code",
   "execution_count": 62,
   "id": "262bc8ba",
   "metadata": {},
   "outputs": [
    {
     "name": "stdout",
     "output_type": "stream",
     "text": [
      "Mode 4\n",
      "(903, 6)\n"
     ]
    },
    {
     "name": "stderr",
     "output_type": "stream",
     "text": [
      "  0%|▏                                       | 12/2500 [00:00<00:20, 118.77it/s]"
     ]
    },
    {
     "name": "stdout",
     "output_type": "stream",
     "text": [
      "Train Loss: 2.1910\tValidation Loss: 1.1442\n"
     ]
    },
    {
     "name": "stderr",
     "output_type": "stream",
     "text": [
      "  5%|█▊                                     | 115/2500 [00:00<00:19, 122.27it/s]"
     ]
    },
    {
     "name": "stdout",
     "output_type": "stream",
     "text": [
      "Train Loss: 0.6383\tValidation Loss: 0.3012\n"
     ]
    },
    {
     "name": "stderr",
     "output_type": "stream",
     "text": [
      "  9%|███▍                                   | 219/2500 [00:01<00:18, 121.73it/s]"
     ]
    },
    {
     "name": "stdout",
     "output_type": "stream",
     "text": [
      "Train Loss: 0.2782\tValidation Loss: 0.1824\n"
     ]
    },
    {
     "name": "stderr",
     "output_type": "stream",
     "text": [
      " 13%|████▉                                  | 314/2500 [00:02<00:19, 110.51it/s]"
     ]
    },
    {
     "name": "stdout",
     "output_type": "stream",
     "text": [
      "Train Loss: 0.1510\tValidation Loss: 0.1154\n"
     ]
    },
    {
     "name": "stderr",
     "output_type": "stream",
     "text": [
      " 17%|██████▌                                | 422/2500 [00:03<00:16, 127.88it/s]"
     ]
    },
    {
     "name": "stdout",
     "output_type": "stream",
     "text": [
      "Train Loss: 0.1127\tValidation Loss: 0.1061\n"
     ]
    },
    {
     "name": "stderr",
     "output_type": "stream",
     "text": [
      " 21%|████████                               | 515/2500 [00:04<00:15, 124.92it/s]"
     ]
    },
    {
     "name": "stdout",
     "output_type": "stream",
     "text": [
      "Train Loss: 0.1113\tValidation Loss: 0.0938\n"
     ]
    },
    {
     "name": "stderr",
     "output_type": "stream",
     "text": [
      " 25%|█████████▋                             | 620/2500 [00:05<00:15, 119.97it/s]"
     ]
    },
    {
     "name": "stdout",
     "output_type": "stream",
     "text": [
      "Train Loss: 0.0929\tValidation Loss: 0.0945\n"
     ]
    },
    {
     "name": "stderr",
     "output_type": "stream",
     "text": [
      " 29%|███████████▎                           | 725/2500 [00:06<00:15, 116.25it/s]"
     ]
    },
    {
     "name": "stdout",
     "output_type": "stream",
     "text": [
      "Train Loss: 0.0908\tValidation Loss: 0.0891\n"
     ]
    },
    {
     "name": "stderr",
     "output_type": "stream",
     "text": [
      " 33%|████████████▊                          | 820/2500 [00:06<00:13, 128.73it/s]"
     ]
    },
    {
     "name": "stdout",
     "output_type": "stream",
     "text": [
      "Train Loss: 0.0860\tValidation Loss: 0.0864\n"
     ]
    },
    {
     "name": "stderr",
     "output_type": "stream",
     "text": [
      " 37%|██████████████▎                        | 917/2500 [00:07<00:12, 129.09it/s]"
     ]
    },
    {
     "name": "stdout",
     "output_type": "stream",
     "text": [
      "Train Loss: 0.0857\tValidation Loss: 0.0835\n"
     ]
    },
    {
     "name": "stderr",
     "output_type": "stream",
     "text": [
      " 41%|███████████████▌                      | 1020/2500 [00:08<00:12, 119.85it/s]"
     ]
    },
    {
     "name": "stdout",
     "output_type": "stream",
     "text": [
      "Train Loss: 0.0796\tValidation Loss: 0.0807\n"
     ]
    },
    {
     "name": "stderr",
     "output_type": "stream",
     "text": [
      " 45%|█████████████████                     | 1123/2500 [00:09<00:12, 113.55it/s]"
     ]
    },
    {
     "name": "stdout",
     "output_type": "stream",
     "text": [
      "Train Loss: 0.0766\tValidation Loss: 0.0787\n"
     ]
    },
    {
     "name": "stderr",
     "output_type": "stream",
     "text": [
      " 49%|██████████████████▌                   | 1223/2500 [00:10<00:10, 123.32it/s]"
     ]
    },
    {
     "name": "stdout",
     "output_type": "stream",
     "text": [
      "Train Loss: 0.0699\tValidation Loss: 0.0822\n"
     ]
    },
    {
     "name": "stderr",
     "output_type": "stream",
     "text": [
      " 53%|███████████████████▉                  | 1314/2500 [00:10<00:09, 124.54it/s]"
     ]
    },
    {
     "name": "stdout",
     "output_type": "stream",
     "text": [
      "Train Loss: 0.0779\tValidation Loss: 0.0797\n"
     ]
    },
    {
     "name": "stderr",
     "output_type": "stream",
     "text": [
      " 57%|█████████████████████▌                | 1419/2500 [00:11<00:08, 122.79it/s]"
     ]
    },
    {
     "name": "stdout",
     "output_type": "stream",
     "text": [
      "Train Loss: 0.0700\tValidation Loss: 0.0755\n"
     ]
    },
    {
     "name": "stderr",
     "output_type": "stream",
     "text": [
      " 61%|███████████████████████▏              | 1526/2500 [00:12<00:08, 120.45it/s]"
     ]
    },
    {
     "name": "stdout",
     "output_type": "stream",
     "text": [
      "Train Loss: 0.0660\tValidation Loss: 0.0761\n"
     ]
    },
    {
     "name": "stderr",
     "output_type": "stream",
     "text": [
      " 65%|████████████████████████▌             | 1618/2500 [00:13<00:06, 127.99it/s]"
     ]
    },
    {
     "name": "stdout",
     "output_type": "stream",
     "text": [
      "Train Loss: 0.0702\tValidation Loss: 0.0802\n"
     ]
    },
    {
     "name": "stderr",
     "output_type": "stream",
     "text": [
      " 69%|██████████████████████████▎           | 1727/2500 [00:14<00:06, 127.82it/s]"
     ]
    },
    {
     "name": "stdout",
     "output_type": "stream",
     "text": [
      "Train Loss: 0.0773\tValidation Loss: 0.0881\n"
     ]
    },
    {
     "name": "stderr",
     "output_type": "stream",
     "text": [
      " 73%|███████████████████████████▋          | 1818/2500 [00:15<00:05, 122.99it/s]"
     ]
    },
    {
     "name": "stdout",
     "output_type": "stream",
     "text": [
      "Train Loss: 0.0670\tValidation Loss: 0.0734\n"
     ]
    },
    {
     "name": "stderr",
     "output_type": "stream",
     "text": [
      " 77%|█████████████████████████████▏        | 1923/2500 [00:15<00:04, 121.03it/s]"
     ]
    },
    {
     "name": "stdout",
     "output_type": "stream",
     "text": [
      "Train Loss: 0.0659\tValidation Loss: 0.0765\n"
     ]
    },
    {
     "name": "stderr",
     "output_type": "stream",
     "text": [
      " 81%|██████████████████████████████▋       | 2017/2500 [00:16<00:04, 113.81it/s]"
     ]
    },
    {
     "name": "stdout",
     "output_type": "stream",
     "text": [
      "Train Loss: 0.0703\tValidation Loss: 0.0732\n"
     ]
    },
    {
     "name": "stderr",
     "output_type": "stream",
     "text": [
      " 85%|████████████████████████████████▎     | 2124/2500 [00:17<00:02, 128.04it/s]"
     ]
    },
    {
     "name": "stdout",
     "output_type": "stream",
     "text": [
      "Train Loss: 0.0674\tValidation Loss: 0.0741\n"
     ]
    },
    {
     "name": "stderr",
     "output_type": "stream",
     "text": [
      " 89%|█████████████████████████████████▋    | 2215/2500 [00:18<00:02, 122.84it/s]"
     ]
    },
    {
     "name": "stdout",
     "output_type": "stream",
     "text": [
      "Train Loss: 0.0673\tValidation Loss: 0.0734\n"
     ]
    },
    {
     "name": "stderr",
     "output_type": "stream",
     "text": [
      " 93%|███████████████████████████████████▎  | 2321/2500 [00:19<00:01, 122.44it/s]"
     ]
    },
    {
     "name": "stdout",
     "output_type": "stream",
     "text": [
      "Train Loss: 0.0679\tValidation Loss: 0.0759\n"
     ]
    },
    {
     "name": "stderr",
     "output_type": "stream",
     "text": [
      " 97%|████████████████████████████████████▋ | 2413/2500 [00:19<00:00, 110.60it/s]"
     ]
    },
    {
     "name": "stdout",
     "output_type": "stream",
     "text": [
      "Train Loss: 0.0682\tValidation Loss: 0.0804\n"
     ]
    },
    {
     "name": "stderr",
     "output_type": "stream",
     "text": [
      "100%|██████████████████████████████████████| 2500/2500 [00:20<00:00, 121.00it/s]\n"
     ]
    },
    {
     "name": "stdout",
     "output_type": "stream",
     "text": [
      "TOTAL EVALUATION LOSS: 18.05876\n"
     ]
    },
    {
     "data": {
      "image/png": "[encoded data removed]",
      "text/plain": [
       "<Figure size 800x600 with 1 Axes>"
      ]
     },
     "metadata": {},
     "output_type": "display_data"
    }
   ],
   "source": [
    "    \n",
    "class NeuralNetwork(nn.Module):\n",
    "    def __init__(self, input_dimension=5, output_dimension=1, hidden=[32], activation=nn.ReLU()):\n",
    "        super(NeuralNetwork, self).__init__()\n",
    "        '''\n",
    "            Implement your neural network here. You will need to add layers and an activation function.\n",
    "            You are free to modify the number of layers in the hidden list.\n",
    "        '''\n",
    "        ### Define your input, hidden and output layers here\n",
    "        \n",
    "        ### Set your activation function here\n",
    "        \n",
    "        self.seq = nn.Sequential(\n",
    "            nn.Linear(input_dimension, 32),\n",
    "            activation,\n",
    "            nn.Linear(32, 64),\n",
    "            activation,\n",
    "            nn.Linear(64, 84),\n",
    "            nn.Tanh(),\n",
    "            nn.Linear(84, 84),\n",
    "            activation,\n",
    "            nn.Linear(84, 84),\n",
    "            nn.Tanh(),\n",
    "            nn.Linear(84, 64),\n",
    "            activation,\n",
    "            nn.Linear(64, 10),\n",
    "            activation,\n",
    "            nn.Linear(10, output_dimension)\n",
    "        )  \n",
    "\n",
    "    def forward(self, x):\n",
    "        '''\n",
    "            Implement the forward function using the layers and activation function you defined above.\n",
    "        '''\n",
    "        ### Call your hidden layers and activation function to do the forward pass through your network.\n",
    "        \n",
    "        return self.seq(x) #self.layers(x)\n",
    "\n",
    "\n",
    "def train(model, train_data, validation_data):\n",
    "\n",
    "    ###\n",
    "    #  Modify these parameters\n",
    "    ###\n",
    "    loss_fn = torch.nn.MSELoss()\n",
    "    epochs = 2500\n",
    "    learning_rate = 0.001\n",
    "    weight_decay = 0.01\n",
    "    batch_size = 600\n",
    "\n",
    "    # Set up data\n",
    "    train_loader = DataLoader(Dataset(train_data), batch_size=batch_size, shuffle=True)\n",
    "    validation_loader = DataLoader(Dataset(validation_data), batch_size=batch_size)\n",
    "\n",
    "    # The Adam optimizer is recommended for this assignment.\n",
    "    optimizer = torch.optim.Adam(model.parameters(), lr=learning_rate, weight_decay=weight_decay)\n",
    "\n",
    "    train_losses, val_losses = [], []\n",
    "    for ep in tqdm(range(epochs)):\n",
    "        \n",
    "        model.train()\n",
    "        train_loss = 0\n",
    "        for x, y in train_loader:\n",
    "            optimizer.zero_grad()\n",
    "            pred = model(x)\n",
    "            loss = loss_fn(pred, y)\n",
    "            loss.backward()\n",
    "            optimizer.step()\n",
    "            train_loss += loss.item()\n",
    "            \n",
    "        model.eval()\n",
    "        val_loss = 0\n",
    "            \n",
    "        with torch.no_grad():\n",
    "            for x, y in validation_loader:\n",
    "                \n",
    "                pred = model(x)\n",
    "                loss = loss_fn(pred, y)\n",
    "                val_loss += loss.item()\n",
    "                \n",
    "        train_losses.append(train_loss / len(train_loader))\n",
    "        val_losses.append(val_loss / len(validation_loader))\n",
    "\n",
    "\n",
    "        # Feel free to modify how frequently training progress is printed\n",
    "        \n",
    "        if(ep%100 == 0):\n",
    "            print(\"Train Loss: {0:.4f}\\tValidation Loss: {1:.4f}\".format(train_loss, val_loss))\n",
    "\n",
    "        # Hold on to losses for easy saving and plotting\n",
    "    \n",
    "    # Save your losses as .npy files\n",
    "    np.save(\"./train_losses.npy\", train_losses)\n",
    "    np.save(\"./val_losses.npy\", val_losses)\n",
    "\n",
    "    # Save the model as ./p1_model.pt\n",
    "    torch.save(model.state_dict(), \"./p5_model.pt\")\n",
    "    return model\n",
    "\n",
    "\n",
    "print(\"Mode 4\")\n",
    "\n",
    "if __name__ == '__main__':\n",
    "    torch.manual_seed(137)\n",
    "    \n",
    "    # Load in the provided data\n",
    "    train_data = np.load('train_data.npy')\n",
    "    print(train_data.shape)\n",
    "    validation_data = np.load('validation_data.npy')\n",
    "    test_data = np.load('test_data.npy')\n",
    "\n",
    "    model = NeuralNetwork()\n",
    "    \n",
    "    trained_model = train(model, train_data, validation_data)\n",
    "    evaluate(trained_model, test_data)\n",
    "\n",
    "    # Load your training data and call the provided plot function. Loss function and reduction scheme are\n",
    "    # required for the plotting function.\n",
    "    train_losses = np.load(\"./train_losses.npy\")\n",
    "    val_losses = np.load(\"./val_losses.npy\")\n",
    "\n",
    "    plot_training_curves(train_losses, val_losses, \"MSE\", \"mean\")    \n",
    "    \n",
    "    \n",
    "    "
   ]
  },
  {
   "cell_type": "code",
   "execution_count": null,
   "id": "901f520e",
   "metadata": {},
   "outputs": [],
   "source": []
  },
  {
   "cell_type": "code",
   "execution_count": null,
   "id": "dd56fb0c",
   "metadata": {},
   "outputs": [],
   "source": []
  }
 ],
 "metadata": {
  "kernelspec": {
   "display_name": "Python 3 (ipykernel)",
   "language": "python",
   "name": "python3"
  },
  "language_info": {
   "codemirror_mode": {
    "name": "ipython",
    "version": 3
   },
   "file_extension": ".py",
   "mimetype": "text/x-python",
   "name": "python",
   "nbconvert_exporter": "python",
   "pygments_lexer": "ipython3",
   "version": "3.11.4"
  }
 },
 "nbformat": 4,
 "nbformat_minor": 5
}
