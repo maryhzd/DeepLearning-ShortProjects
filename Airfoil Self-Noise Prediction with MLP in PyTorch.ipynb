{
 "cells": [
  {
   "cell_type": "markdown",
   "id": "d71b67ce",
   "metadata": {},
   "source": [
    "# Welcome to This Project\n",
    "\n",
    "Here, we will be implementing a neural network in order to perform regression on the Airfoil Self-Noise data set. "
   ]
  },
  {
   "cell_type": "markdown",
   "id": "b078d440",
   "metadata": {},
   "source": [
    "## The imports and helper functions should not be modified in any way."
   ]
  },
  {
   "cell_type": "code",
   "execution_count": 1,
   "id": "39ca4710",
   "metadata": {},
   "outputs": [],
   "source": [
    "import torch\n",
    "from torch import nn\n",
    "from torch.utils.data import DataLoader\n",
    "import numpy as np\n",
    "from tqdm import tqdm\n",
    "from matplotlib import pyplot as plt"
   ]
  },
  {
   "cell_type": "code",
   "execution_count": 2,
   "id": "f4e991b3",
   "metadata": {},
   "outputs": [],
   "source": [
    "def evaluate(model, test_data):\n",
    "\n",
    "    test_loader = DataLoader(Dataset(test_data), batch_size=1)\n",
    "    loss_fn = torch.nn.MSELoss()\n",
    "    with torch.no_grad():\n",
    "        total_loss = 0\n",
    "        for x, y in test_loader:\n",
    "            pred = model(x)\n",
    "            total_loss += loss_fn(pred, y).item()\n",
    "    print(\"TOTAL EVALUATION LOSS: {0:.5f}\".format(total_loss))"
   ]
  },
  {
   "cell_type": "code",
   "execution_count": 3,
   "id": "99e84b54",
   "metadata": {},
   "outputs": [],
   "source": [
    "def plot_training_curves(train_loss, val_loss, loss_fn_name, reduction):\n",
    "\n",
    "    fig, ax = plt.subplots(figsize=(8,6))\n",
    "    ax.plot(train_loss, label=\"Train Loss\")\n",
    "    ax.plot(val_loss, label=\"Validation Loss\")\n",
    "    ax.legend(loc='best')\n",
    "    ax.set_title(\"Loss During Training\", fontsize=16)\n",
    "    ax.set_xlabel(\"Epochs\", fontsize=14)\n",
    "    ax.set_ylabel(\"Loss: {}(reduction={})\".format(loss_fn_name, reduction), fontsize=14)\n",
    "    plt.savefig(\"./example_loss.pdf\")\n",
    "    plt.show()"
   ]
  },
  {
   "cell_type": "markdown",
   "id": "ae7fa49e",
   "metadata": {},
   "source": [
    "## a) Implement  dataset object.\n",
    "\n",
    "Please note that the first five columns of the airfoil data are features and the last column is the target. The dataset should have one attribute for the features, one attribute for the targets, and should return the specified features and target in `__getitem__()` as separate values."
   ]
  },
  {
   "cell_type": "code",
   "execution_count": 4,
   "id": "59749439",
   "metadata": {},
   "outputs": [],
   "source": [
    "class Dataset(torch.utils.data.Dataset):\n",
    "    \"\"\"Create your dataset here.\"\"\"\n",
    "\n",
    "    def __init__(self, airfoil_data):\n",
    "        \"\"\"\n",
    "            Initialize your Dataset object with features and labels\n",
    "        \"\"\"\n",
    "        ### Define your features and labels here\n",
    "        self.features = airfoil_data[:, :-1] \n",
    "        self.targets = airfoil_data[:, -1]\n",
    "\n",
    "    def __len__(self):\n",
    "        ### Define the length of your data set\n",
    "        return len(self.features)\n",
    "\n",
    "    def __getitem__(self, idx):\n",
    "        ### Return the features and labels of your data for a given index\n",
    "        feature = torch.tensor(self.features[idx], dtype=torch.float32)\n",
    "        target = torch.tensor(self.targets[idx], dtype=torch.float32)\n",
    "        target = target.unsqueeze(-1)\n",
    "        return feature, target"
   ]
  },
  {
   "cell_type": "markdown",
   "id": "601ab911",
   "metadata": {},
   "source": [
    "## b) Implement the model architecture and `forward` function.\n",
    "\n",
    "We will need to define input, hidden, and output layers, as well as the activation function."
   ]
  },
  {
   "cell_type": "code",
   "execution_count": 5,
   "id": "0479005d",
   "metadata": {},
   "outputs": [],
   "source": [
    "class NeuralNetwork(nn.Module):\n",
    "    def __init__(self, input_dimension=5, output_dimension=1, hidden=[32], activation=nn.ReLU()):\n",
    "        super(NeuralNetwork, self).__init__()\n",
    "        '''\n",
    "            Implement your neural network here. You will need to add layers and an activation function.\n",
    "            You are free to modify the number of layers in the hidden list.\n",
    "        '''\n",
    "        ### Define your input, hidden and output layers here\n",
    "        \n",
    "        ### Set your activation function here\n",
    "        \n",
    "        self.seq = nn.Sequential(\n",
    "            nn.Linear(input_dimension, 32),\n",
    "            activation,\n",
    "            nn.Linear(32, 64),\n",
    "            activation,\n",
    "            nn.Linear(64, 84),\n",
    "            nn.Tanh(),\n",
    "            nn.Linear(84, 84),\n",
    "            activation,\n",
    "            nn.Linear(84, 84),\n",
    "            nn.Tanh(),\n",
    "            nn.Linear(84, 64),\n",
    "            activation,\n",
    "            nn.Linear(64, 34),\n",
    "            activation,\n",
    "            nn.Linear(34, 24),\n",
    "            activation,\n",
    "            nn.Linear(24, 10),\n",
    "            activation,\n",
    "            nn.Linear(10, output_dimension)\n",
    "        )  \n",
    "\n",
    "    def forward(self, x):\n",
    "        '''\n",
    "            Implement the forward function using the layers and activation function you defined above.\n",
    "        '''\n",
    "        ### Call your hidden layers and activation function to do the forward pass through your network.\n",
    "        \n",
    "        return self.seq(x) #self.layers(x)"
   ]
  },
  {
   "cell_type": "markdown",
   "id": "578f9c68",
   "metadata": {},
   "source": [
    "## c, d) Define hyperparameters and implement the training loop.\n",
    "\n",
    "We will need to choose your loss function, number of epochs, optimizer learning rate, optimizer weight decay, and batch size for part (c). We should set up the DataLoader, implement the forward pass, and implement the backpropagation update."
   ]
  },
  {
   "cell_type": "code",
   "execution_count": 6,
   "id": "45bac6f7",
   "metadata": {},
   "outputs": [],
   "source": [
    "def train(model, train_data, validation_data):\n",
    "\n",
    "    ###\n",
    "    #  Modify these parameters\n",
    "    ###\n",
    "    loss_fn = torch.nn.MSELoss()\n",
    "    epochs = 2500\n",
    "    learning_rate = 0.001\n",
    "    weight_decay = 0.001\n",
    "    batch_size = 600\n",
    "\n",
    "    # Set up data\n",
    "    train_loader = DataLoader(Dataset(train_data), batch_size=batch_size, shuffle=True)\n",
    "    validation_loader = DataLoader(Dataset(validation_data), batch_size=batch_size)\n",
    "\n",
    "    \n",
    "    optimizer = torch.optim.Adam(model.parameters(), lr=learning_rate, weight_decay=weight_decay)\n",
    "\n",
    "    train_losses, val_losses = [], []\n",
    "    for ep in tqdm(range(epochs)):\n",
    "        \n",
    "        model.train()\n",
    "        train_loss = 0\n",
    "        for x, y in train_loader:\n",
    "            optimizer.zero_grad()\n",
    "            pred = model(x)\n",
    "            loss = loss_fn(pred, y)\n",
    "            loss.backward()\n",
    "            optimizer.step()\n",
    "            train_loss += loss.item()\n",
    "            \n",
    "        model.eval()\n",
    "        val_loss = 0\n",
    "            \n",
    "        with torch.no_grad():\n",
    "            for x, y in validation_loader:\n",
    "                \n",
    "                pred = model(x)\n",
    "                loss = loss_fn(pred, y)\n",
    "                val_loss += loss.item()\n",
    "                \n",
    "        train_losses.append(train_loss / len(train_loader))\n",
    "        val_losses.append(val_loss / len(validation_loader))\n",
    "\n",
    "\n",
    "        \n",
    "        if(ep%500 == 0):\n",
    "            print(\"Train Loss: {0:.4f}\\tValidation Loss: {1:.4f}\".format(train_loss, val_loss))\n",
    "\n",
    "        \n",
    "    \n",
    "    # Save losses as .npy files\n",
    "    np.save(\"./train_losses.npy\", train_losses)\n",
    "    np.save(\"./val_losses.npy\", val_losses)\n",
    "\n",
    "    # Save the model as ./p1_model.pt\n",
    "    torch.save(model.state_dict(), \"./hw1_model.pt\")\n",
    "    return model"
   ]
  },
  {
   "cell_type": "markdown",
   "id": "03442346",
   "metadata": {},
   "source": [
    "## e) Load your data, then train and evaluate your model before plotting the training curves."
   ]
  },
  {
   "cell_type": "code",
   "execution_count": 7,
   "id": "25d032de",
   "metadata": {
    "scrolled": false
   },
   "outputs": [
    {
     "name": "stdout",
     "output_type": "stream",
     "text": [
      "(903, 6)\n"
     ]
    },
    {
     "name": "stderr",
     "output_type": "stream",
     "text": [
      "  1%|▎                                        | 17/2500 [00:00<00:28, 87.69it/s]"
     ]
    },
    {
     "name": "stdout",
     "output_type": "stream",
     "text": [
      "Train Loss: 2.0128\tValidation Loss: 1.0505\n"
     ]
    },
    {
     "name": "stderr",
     "output_type": "stream",
     "text": [
      " 21%|████████▏                              | 521/2500 [00:04<00:15, 125.37it/s]"
     ]
    },
    {
     "name": "stdout",
     "output_type": "stream",
     "text": [
      "Train Loss: 0.0649\tValidation Loss: 0.0882\n"
     ]
    },
    {
     "name": "stderr",
     "output_type": "stream",
     "text": [
      " 41%|███████████████▍                      | 1015/2500 [00:08<00:12, 114.45it/s]"
     ]
    },
    {
     "name": "stdout",
     "output_type": "stream",
     "text": [
      "Train Loss: 0.0374\tValidation Loss: 0.0669\n"
     ]
    },
    {
     "name": "stderr",
     "output_type": "stream",
     "text": [
      " 61%|███████████████████████▏              | 1522/2500 [00:12<00:07, 125.97it/s]"
     ]
    },
    {
     "name": "stdout",
     "output_type": "stream",
     "text": [
      "Train Loss: 0.0319\tValidation Loss: 0.0677\n"
     ]
    },
    {
     "name": "stderr",
     "output_type": "stream",
     "text": [
      " 81%|██████████████████████████████▋       | 2015/2500 [00:16<00:04, 107.26it/s]"
     ]
    },
    {
     "name": "stdout",
     "output_type": "stream",
     "text": [
      "Train Loss: 0.0254\tValidation Loss: 0.0693\n"
     ]
    },
    {
     "name": "stderr",
     "output_type": "stream",
     "text": [
      "100%|██████████████████████████████████████| 2500/2500 [00:20<00:00, 121.97it/s]\n"
     ]
    },
    {
     "name": "stdout",
     "output_type": "stream",
     "text": [
      "TOTAL EVALUATION LOSS: 12.85392\n"
     ]
    },
    {
     "data": {
      "image/png": "[encoded data removed]",
      "text/plain": [
       "<Figure size 800x600 with 1 Axes>"
      ]
     },
     "metadata": {},
     "output_type": "display_data"
    }
   ],
   "source": [
    "if __name__ == '__main__':\n",
    "    torch.manual_seed(137)\n",
    "    \n",
    "    # Load in the provided data\n",
    "    train_data = np.load('train_data.npy')\n",
    "    print(train_data.shape)\n",
    "    validation_data = np.load('validation_data.npy')\n",
    "    test_data = np.load('test_data.npy')\n",
    "\n",
    "    model = NeuralNetwork()\n",
    "    \n",
    "    trained_model = train(model, train_data, validation_data)\n",
    "    evaluate(trained_model, test_data)\n",
    "\n",
    "    # Load training data and call the provided plot function. Loss function and reduction scheme are\n",
    "    # required for the plotting function.\n",
    "    train_losses = np.load(\"./train_losses.npy\")\n",
    "    val_losses = np.load(\"./val_losses.npy\")\n",
    "\n",
    "    plot_training_curves(train_losses, val_losses, \"MSE\", \"mean\")"
   ]
  }
 ],
 "metadata": {
  "kernelspec": {
   "display_name": "Python 3 (ipykernel)",
   "language": "python",
   "name": "python3"
  },
  "language_info": {
   "codemirror_mode": {
    "name": "ipython",
    "version": 3
   },
   "file_extension": ".py",
   "mimetype": "text/x-python",
   "name": "python",
   "nbconvert_exporter": "python",
   "pygments_lexer": "ipython3",
   "version": "3.11.4"
  }
 },
 "nbformat": 4,
 "nbformat_minor": 5
}
