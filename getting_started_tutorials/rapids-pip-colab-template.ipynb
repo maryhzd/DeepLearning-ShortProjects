{
  "nbformat": 4,
  "nbformat_minor": 0,
  "metadata": {
    "colab": {
      "provenance": []
    },
    "kernelspec": {
      "name": "python3",
      "display_name": "Python 3"
    },
    "accelerator": "GPU"
  },
  "cells": [
    {
      "cell_type": "markdown",
      "metadata": {
        "id": "scfLT2i0MLyD"
      },
      "source": [
        "<a target=\"_blank\" href=\"https://colab.research.google.com/github/rapidsai-community/showcase/blob/main/getting_started_tutorials/rapids-pip-colab-template.ipynb\">\n",
        "  <img src=\"https://colab.research.google.com/assets/colab-badge.svg\" alt=\"Install RAPIDS into Colab\"/>\n",
        "</a>\n",
        "\n",
        "# RAPIDS cuDF is now already on your Colab instance!\n",
        "RAPIDS cuDF is preinstalled on Google Colab and instantly accelerates Pandas with zero code changes. [You can quickly get started with our tutorial notebook](https://nvda.ws/rapids-cudf). This notebook template is for users who want to utilize the full suite of the RAPIDS libraries for their workflows on Colab.  \n",
        "\n",
        "# Environment Sanity Check #\n",
        "\n",
        "Click the _Runtime_ dropdown at the top of the page, then _Change Runtime Type_ and confirm the instance type is _GPU_.\n",
        "\n",
        "You can check the output of `!nvidia-smi` to check which GPU you have.  Please uncomment the cell below if you'd like to do that.  Currently, RAPIDS runs on all available Colab GPU instances."
      ]
    },
    {
      "cell_type": "code",
      "metadata": {
        "id": "67T0090Jk2KL"
      },
      "source": [
        "# !nvidia-smi"
      ],
      "execution_count": 10,
      "outputs": []
    },
    {
      "cell_type": "markdown",
      "metadata": {
        "id": "U_v33LnDVNo3"
      },
      "source": [
        "#Setup:\n",
        "This set up script:\n",
        "\n",
        "1. Checks to make sure that the GPU is RAPIDS compatible\n",
        "1. Pip Installs the RAPIDS' libraries, which are:\n",
        "  1. cuDF\n",
        "  1. cuML\n",
        "  1. cuGraph\n",
        "  1. cuSpatial\n",
        "  1. cuxFilter\n",
        "  1. cuCIM\n",
        "  1. xgboost\n",
        "\n",
        "# Controlling Which RAPIDS Version is Installed\n",
        "This line in the cell below, `!python rapidsai-csp-utils/colab/pip-install.py`, kicks off the RAPIDS installation script.  You can control the RAPIDS version installed by adding either `latest`, `nightlies` or the default/blank option.  Example:\n",
        "\n",
        "`!python rapidsai-csp-utils/colab/pip-install.py <option>`\n",
        "\n",
        "You can now tell the script to install:\n",
        "1. **RAPIDS + Colab Default Version**, by leaving the install script option blank (or giving an invalid option), adds the rest of the RAPIDS libraries to the RAPIDS cuDF library preinstalled on Colab.  **This is the default and recommended version.**  Example: `!python rapidsai-csp-utils/colab/pip-install.py`\n",
        "1. **Latest known working RAPIDS stable version**, by using the option `latest` upgrades all RAPIDS labraries to the latest working RAPIDS stable version.  Usually early access for future RAPIDS+Colab functionality - some functionality may not work, but can be same as the default version. Example: `!python rapidsai-csp-utils/colab/pip-install.py latest`\n",
        "1. **the current nightlies version**, by using the option, `nightlies`, installs current RAPIDS nightlies version.  For RAPIDS Developer use - **not recommended/untested**.  Example: `!python rapidsai-csp-utils/colab/pip-install.py nightlies`\n",
        "\n",
        "\n",
        "**This will complete in about 5-6 minutes**"
      ]
    },
    {
      "cell_type": "code",
      "metadata": {
        "id": "B0C8IV5TQnjN",
        "colab": {
          "base_uri": "https://localhost:8080/"
        },
        "outputId": "9a8a1015-06b7-49a7-f9ab-b5ff5bdd87f1"
      },
      "source": [
        "# This get the RAPIDS-Colab install files and test check your GPU.  Run this and the next cell only.\n",
        "# Please read the output of this cell.  If your Colab Instance is not RAPIDS compatible, it will warn you and give you remediation steps.\n",
        "!git clone https://github.com/rapidsai/rapidsai-csp-utils.git\n",
        "!python rapidsai-csp-utils/colab/pip-install.py\n"
      ],
      "execution_count": 11,
      "outputs": [
        {
          "output_type": "stream",
          "name": "stdout",
          "text": [
            "Cloning into 'rapidsai-csp-utils'...\n",
            "remote: Enumerating objects: 603, done.\u001b[K\n",
            "remote: Counting objects: 100% (169/169), done.\u001b[K\n",
            "remote: Compressing objects: 100% (87/87), done.\u001b[K\n",
            "remote: Total 603 (delta 131), reused 82 (delta 82), pack-reused 434 (from 3)\u001b[K\n",
            "Receiving objects: 100% (603/603), 199.38 KiB | 11.08 MiB/s, done.\n",
            "Resolving deltas: 100% (305/305), done.\n",
            "Installing RAPIDS remaining 25.08 libraries\n",
            "Using Python 3.12.11 environment at: /usr\n",
            "Resolved 177 packages in 12.33s\n",
            "Downloading shapely (2.4MiB)\n",
            "Downloading bokeh (6.6MiB)\n",
            "Downloading rmm-cu12 (1.1MiB)\n",
            "Downloading cugraph-cu12 (2.9MiB)\n",
            "Downloading ucx-py-cu12 (2.1MiB)\n",
            "Downloading cuda-bindings (11.9MiB)\n",
            "Downloading datashader (17.5MiB)\n",
            "Downloading dask (1.4MiB)\n",
            "Downloading holoviews (4.8MiB)\n",
            "Downloading pylibcudf-cu12 (26.6MiB)\n",
            "Downloading libcuvs-cu12 (777.2MiB)\n",
            "Downloading libcudf-cu12 (501.5MiB)\n",
            "Downloading cudf-cu12 (2.5MiB)\n",
            "Downloading pylibcugraph-cu12 (1.9MiB)\n",
            "Downloading libkvikio-cu12 (84.5MiB)\n",
            "Downloading libcuml-cu12 (155.9MiB)\n",
            "Downloading libraft-cu12 (21.3MiB)\n",
            "Downloading cucim-cu12 (5.6MiB)\n",
            "  × Failed to download `cuxfilter-cu12==25.8.0`\n",
            "  ├─▶ Failed to fetch:\n",
            "  │   `https://pypi.nvidia.com/cuxfilter-cu12/cuxfilter_cu12-25.8.0-py3-none-any.whl`\n",
            "  ├─▶ error sending request for url\n",
            "  │   (https://pypi.nvidia.com/cuxfilter-cu12/cuxfilter_cu12-25.8.0-py3-none-any.whl)\n",
            "  ├─▶ client error (SendRequest)\n",
            "  ├─▶ http2 error\n",
            "  ╰─▶ connection error detected: flow-control protocol violated\n",
            "\n",
            "        ***********************************************************************\n",
            "        The pip install of RAPIDS is complete.\n",
            "\n",
            "        Please do not run any further installation from the conda based installation methods, as they may cause issues!\n",
            "\n",
            "        Please ensure that you're pulling from the git repo to remain updated with the latest working install scripts.\n",
            "\n",
            "        Troubleshooting:\n",
            "            - If there is an installation failure, please check back on RAPIDSAI owned templates/notebooks to see how to update your personal files.\n",
            "            - If an installation failure persists when using the latest script, please make an issue on https://github.com/rapidsai-community/rapidsai-csp-utils\n",
            "        ***********************************************************************\n",
            "        \n"
          ]
        }
      ]
    },
    {
      "cell_type": "markdown",
      "metadata": {
        "id": "pZJMJ6BulmMn"
      },
      "source": [
        "# RAPIDS is now installed on Colab.  \n",
        "You can copy your code into the cells below or use the below to validate your RAPIDS installation and version.  \n",
        "# Enjoy!"
      ]
    },
    {
      "cell_type": "code",
      "metadata": {
        "id": "4nLrk46BllED",
        "colab": {
          "base_uri": "https://localhost:8080/",
          "height": 35
        },
        "outputId": "52e4d83d-dcc3-45db-9769-dd35c49fd9d9"
      },
      "source": [
        "import cudf\n",
        "cudf.__version__"
      ],
      "execution_count": 12,
      "outputs": [
        {
          "output_type": "execute_result",
          "data": {
            "text/plain": [
              "'25.06.00'"
            ],
            "application/vnd.google.colaboratory.intrinsic+json": {
              "type": "string"
            }
          },
          "metadata": {},
          "execution_count": 12
        }
      ]
    },
    {
      "cell_type": "code",
      "source": [
        "import cuml\n",
        "cuml.__version__"
      ],
      "metadata": {
        "colab": {
          "base_uri": "https://localhost:8080/",
          "height": 35
        },
        "id": "xgAFgI15ddf6",
        "outputId": "0a9488f2-4364-4ad1-c722-42b82e3652f5"
      },
      "execution_count": 13,
      "outputs": [
        {
          "output_type": "execute_result",
          "data": {
            "text/plain": [
              "'25.06.00'"
            ],
            "application/vnd.google.colaboratory.intrinsic+json": {
              "type": "string"
            }
          },
          "metadata": {},
          "execution_count": 13
        }
      ]
    },
    {
      "cell_type": "markdown",
      "metadata": {
        "id": "Dlsyk9m9NN2K"
      },
      "source": [
        "# Next Steps #\n",
        "\n",
        "For an overview of how you can access and work with your own datasets in Colab, check out [this guide](https://towardsdatascience.com/3-ways-to-load-csv-files-into-colab-7c14fcbdcb92).\n",
        "\n",
        "For more RAPIDS examples, check out our RAPIDS notebooks repos:\n",
        "1. https://github.com/rapidsai/notebooks\n",
        "2. https://github.com/rapidsai/notebooks-contrib"
      ]
    },
    {
      "cell_type": "code",
      "source": [
        "import cudf\n",
        "import cupy\n",
        "import matplotlib.pyplot as plt\n",
        "from cuml.cluster import KMeans as cuKMeans\n",
        "from cuml.datasets import make_blobs\n",
        "from sklearn.cluster import KMeans as skKMeans\n",
        "from sklearn.metrics import adjusted_rand_score\n",
        "\n",
        "%matplotlib inline"
      ],
      "metadata": {
        "id": "9GE3Jvj8d3_M"
      },
      "execution_count": 18,
      "outputs": []
    },
    {
      "cell_type": "code",
      "source": [
        "n_samples = 100000\n",
        "n_features = 25\n",
        "\n",
        "n_clusters = 8\n",
        "random_state = 0"
      ],
      "metadata": {
        "id": "ilyHAv2nSKBH"
      },
      "execution_count": 19,
      "outputs": []
    },
    {
      "cell_type": "code",
      "source": [
        "device_data, device_labels = make_blobs(\n",
        "    n_samples=n_samples,\n",
        "    n_features=n_features,\n",
        "    centers=n_clusters,\n",
        "    random_state=random_state,\n",
        "    cluster_std=0.1\n",
        ")"
      ],
      "metadata": {
        "id": "n6JAH1ZeSNV4"
      },
      "execution_count": 20,
      "outputs": []
    },
    {
      "cell_type": "code",
      "source": [
        "# Copy CuPy arrays from GPU memory to host memory (NumPy arrays).\n",
        "# This is done to later compare CPU and GPU results.\n",
        "host_data = device_data.get()\n",
        "host_labels = device_labels.get()"
      ],
      "metadata": {
        "id": "qrdg6z1GSPpP"
      },
      "execution_count": 21,
      "outputs": []
    },
    {
      "cell_type": "code",
      "source": [
        "kmeans_sk = skKMeans(\n",
        "    init=\"k-means++\",\n",
        "    n_clusters=n_clusters,\n",
        "    random_state=random_state,\n",
        "    n_init='auto'\n",
        ")\n",
        "%timeit kmeans_sk.fit(host_data)"
      ],
      "metadata": {
        "colab": {
          "base_uri": "https://localhost:8080/"
        },
        "id": "6OzGPq_mSR_f",
        "outputId": "70a87389-cc42-4bab-dde1-0faaab7a3c22"
      },
      "execution_count": 22,
      "outputs": [
        {
          "output_type": "stream",
          "name": "stdout",
          "text": [
            "202 ms ± 5.98 ms per loop (mean ± std. dev. of 7 runs, 1 loop each)\n"
          ]
        }
      ]
    },
    {
      "cell_type": "code",
      "source": [
        "kmeans_cuml = cuKMeans(\n",
        "    init=\"k-means||\",\n",
        "    n_clusters=n_clusters,\n",
        "    random_state=random_state\n",
        ")\n",
        "\n",
        "%timeit kmeans_cuml.fit(device_data)"
      ],
      "metadata": {
        "colab": {
          "base_uri": "https://localhost:8080/"
        },
        "id": "DlxfnrzSSVE5",
        "outputId": "1f213d46-f091-48fb-bfc9-c519fbe7ecb1"
      },
      "execution_count": 23,
      "outputs": [
        {
          "output_type": "stream",
          "name": "stdout",
          "text": [
            "16.8 ms ± 2.04 ms per loop (mean ± std. dev. of 7 runs, 10 loops each)\n"
          ]
        }
      ]
    },
    {
      "cell_type": "code",
      "source": [
        "fig = plt.figure(figsize=(16, 10))\n",
        "plt.scatter(host_data[:, 0], host_data[:, 1], c=host_labels, s=50, cmap='viridis')\n",
        "\n",
        "#plot the sklearn kmeans centers with blue filled circles\n",
        "centers_sk = kmeans_sk.cluster_centers_\n",
        "plt.scatter(centers_sk[:,0], centers_sk[:,1], c='blue', s=100, alpha=.5)\n",
        "\n",
        "#plot the cuml kmeans centers with red circle outlines\n",
        "centers_cuml = kmeans_cuml.cluster_centers_\n",
        "plt.scatter(cupy.asnumpy(centers_cuml[:, 0]),\n",
        "            cupy.asnumpy(centers_cuml[:, 1]),\n",
        "            facecolors = 'none', edgecolors='red', s=100)\n",
        "\n",
        "plt.title('cuML and sklearn kmeans clustering')\n",
        "\n",
        "plt.show()"
      ],
      "metadata": {
        "colab": {
          "base_uri": "https://localhost:8080/",
          "height": 853
        },
        "id": "qgkupSWgSYjU",
        "outputId": "afabf712-d11f-4fa2-b274-ac081b117aec"
      },
      "execution_count": 24,
      "outputs": [
        {
          "output_type": "display_data",
          "data": {
            "text/plain": [
              "<Figure size 1600x1000 with 1 Axes>"
            ],
            "image/png": "[encoded data removed]"
          },
          "metadata": {}
        }
      ]
    },
    {
      "cell_type": "code",
      "source": [
        "%%time\n",
        "cuml_score = adjusted_rand_score(host_labels, kmeans_cuml.labels_.get())\n",
        "sk_score = adjusted_rand_score(host_labels, kmeans_sk.labels_)"
      ],
      "metadata": {
        "colab": {
          "base_uri": "https://localhost:8080/"
        },
        "id": "Hfboh40OSbnO",
        "outputId": "d5f20c4f-f08d-4c2c-f6c0-a0674e254d55"
      },
      "execution_count": 25,
      "outputs": [
        {
          "output_type": "stream",
          "name": "stdout",
          "text": [
            "CPU times: user 20.1 ms, sys: 0 ns, total: 20.1 ms\n",
            "Wall time: 37.5 ms\n"
          ]
        }
      ]
    },
    {
      "cell_type": "code",
      "source": [
        "threshold = 1e-4\n",
        "\n",
        "passed = (cuml_score - sk_score) < threshold\n",
        "print('compare kmeans: cuml vs sklearn labels_ are ' + ('equal' if passed else 'NOT equal'))"
      ],
      "metadata": {
        "colab": {
          "base_uri": "https://localhost:8080/"
        },
        "id": "s7KDfbYRS9TJ",
        "outputId": "b86b11c6-a6bc-4f9a-baf6-0cf8c7eb4c01"
      },
      "execution_count": 26,
      "outputs": [
        {
          "output_type": "stream",
          "name": "stdout",
          "text": [
            "compare kmeans: cuml vs sklearn labels_ are equal\n"
          ]
        }
      ]
    }
  ]
}