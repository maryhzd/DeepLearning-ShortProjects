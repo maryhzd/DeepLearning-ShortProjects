{
 "cells": [
  {
   "cell_type": "code",
   "execution_count": 1,
   "metadata": {
    "id": "NRUhJz057_le"
   },
   "outputs": [],
   "source": [
    "# Feel free to import anything you need\n",
    "\n",
    "import numpy as np\n",
    "from PIL import Image\n",
    "\n",
    "import torch\n",
    "import torch.nn as nn\n",
    "import torch.backends.cudnn as cudnn\n",
    "import torch.nn.functional as F\n",
    "import torchvision\n",
    "from torch.optim.lr_scheduler import LambdaLR\n",
    "from torch.utils.data import DataLoader\n",
    "from torchvision.datasets import CIFAR10\n",
    "from torchvision import transforms\n",
    "from torch.utils.data import DataLoader, SubsetRandomSampler\n",
    "import torch.optim as optim\n",
    "import matplotlib.pyplot as plt\n",
    "\n",
    "from tqdm import tqdm"
   ]
  },
  {
   "cell_type": "code",
   "execution_count": 2,
   "metadata": {
    "id": "lt5oHKILqIB3"
   },
   "outputs": [],
   "source": [
    "###########  Do not modify this cell ###########################\n",
    "# ===============================================================\n",
    "\n",
    "### seed everything for reproducibility\n",
    "def seed_everything():\n",
    "    seed = 24789\n",
    "    np.random.seed(seed)\n",
    "    torch.manual_seed(seed)\n",
    "    torch.cuda.manual_seed(seed)"
   ]
  },
  {
   "cell_type": "markdown",
   "metadata": {
    "id": "dI44Q5CfqdNK"
   },
   "source": [
    "# 1. Contrastive learning loss functions"
   ]
  },
  {
   "cell_type": "markdown",
   "metadata": {
    "id": "AXeDWv33dEww"
   },
   "source": [
    "## 1(a) Implement the normalized temperature-scaled cross entropy loss (NT-Xent) based on SimCLR:\n",
    "https://arxiv.org/pdf/2002.05709.pdf"
   ]
  },
  {
   "cell_type": "markdown",
   "metadata": {
    "id": "Io80AHLvn5Wo"
   },
   "source": [
    "\\begin{equation}\n",
    "\\ell_{i, j}=-\\log \\frac{\\exp \\left(\\operatorname{sim}\\left(\\boldsymbol{z}_i, \\boldsymbol{z}_j\\right) / \\tau\\right)}{\\sum_{k=1}^{2 N}  \\mathbb{1}_{[k \\neq i]} \\exp \\left(\\operatorname{sim}\\left(\\boldsymbol{z}_i, \\boldsymbol{z}_k\\right) / \\tau\\right)}\n",
    "\\end{equation}"
   ]
  },
  {
   "cell_type": "code",
   "execution_count": 3,
   "metadata": {
    "id": "Ax5Ha3k-c2LQ"
   },
   "outputs": [],
   "source": [
    "def nt_xent(x, t=0.5):\n",
    "\n",
    "    x = F.normalize(x, dim=1)\n",
    "    x_scores =  (x @ x.t()).clamp(min=1e-7)  # normalized cosine similarity scores\n",
    "    x_scale = x_scores / t\n",
    "\n",
    "\n",
    "    # Subtract a diagonal matrix with large negative values from x_scale to set the diagonals to be zeros after softmax.\n",
    "    x_scale = x_scale - torch.eye(x_scale.size(0)).to(x_scale.device) * 1e5\n",
    "\n",
    "    # targets 2N elements.\n",
    "    targets = torch.arange(x.size()[0])\n",
    "    targets[::2] += 1  # target of 2k element is 2k+1\n",
    "    targets[1::2] -= 1  # target of 2k+1 element is 2k\n",
    "\n",
    "    # 3 . Compute the cross entropy loss between x_scale and target and return the computed loss\n",
    "    loss = F.cross_entropy(x_scale, targets.long().to(x_scale.device))\n",
    "\n",
    "    return loss\n",
    "\n"
   ]
  },
  {
   "cell_type": "code",
   "execution_count": 4,
   "metadata": {
    "colab": {
     "base_uri": "https://localhost:8080/"
    },
    "id": "6rhf-WxNoObF",
    "outputId": "ae323d78-7717-4498-d7cd-f211e15c6f98"
   },
   "outputs": [
    {
     "name": "stdout",
     "output_type": "stream",
     "text": [
      "z: \n",
      " tensor([[-0.2997, -0.6194, -0.4414],\n",
      "        [-1.2945, -0.1358, -0.2589],\n",
      "        [-0.7526,  0.4345, -0.9680],\n",
      "        [ 0.8034, -2.5620,  0.9044]])\n",
      "Loss: \n",
      " tensor(1.2352)\n"
     ]
    }
   ],
   "source": [
    "seed_everything()\n",
    "\n",
    "z = torch.randn(4,3)\n",
    "t = 0.7\n",
    "\n",
    "loss = nt_xent(z, t)\n",
    "\n",
    "print(\"z: \\n\", z)\n",
    "print(\"Loss: \\n\", loss)"
   ]
  },
  {
   "cell_type": "markdown",
   "metadata": {
    "id": "WImNc2GUqY9S"
   },
   "source": [
    "## 1 (b) Implement Barlow twins loss function\n",
    "https://arxiv.org/pdf/2103.03230.pdf\n"
   ]
  },
  {
   "cell_type": "markdown",
   "metadata": {
    "id": "uOi6AEu4kD5b"
   },
   "source": [
    "Cross correlation matrix\n",
    "\\begin{equation}\n",
    "\\mathcal{C}_{i j} \\triangleq \\frac{\\sum_b z_{b, i}^A z_{b, j}^B}{\\sqrt{\\sum_b\\left(z_{b, i}^A\\right)^2} \\sqrt{\\sum_b\\left(z_{b, j}^B\\right)^2}}\n",
    "\\end{equation}\n",
    "Barlow Twins loss\n",
    "\n",
    "\\begin{equation}\n",
    "\\mathcal{L}_{\\mathcal{B} \\mathcal{T}} \\triangleq \\sum_i\\left(1-\\mathcal{C}_{i i}\\right)^2+\\lambda \\quad \\sum_i \\sum_{j \\neq i} \\mathcal{C}_{i j}^2\n",
    "\\end{equation}"
   ]
  },
  {
   "cell_type": "code",
   "execution_count": 5,
   "metadata": {
    "id": "PlmHoKI9chQU"
   },
   "outputs": [],
   "source": [
    "def off_diag_elems(x):\n",
    "    \"\"\"\n",
    "    Compute the flattened view of the off-diagonal elements of a matrix\n",
    "\n",
    "    \"\"\"\n",
    "    n = x.size(0)\n",
    "    return x.flatten()[:-1].view(n - 1, n + 1)[:, 1:].flatten()\n",
    "\n",
    "def barlow_twins(z1, z2, lamda, batch_size):\n",
    "    \"\"\"\n",
    "    z1 and z2 are the output image representations\n",
    "    1. Normalize the representations across the batch dimension (dim=0)\n",
    "    2. Compute the cross correlation matrix (given in the equation above)\n",
    "    3. Compute the barlow twins loss by following the equations given above\n",
    "\n",
    "    \"\"\"\n",
    "    #FILLIN\n",
    "    z1_norm = (z1 - z1.mean(dim=0)) / z1.std(dim=0)\n",
    "    z2_norm = (z2 - z2.mean(dim=0)) / z2.std(dim=0)\n",
    "\n",
    "    # Compute the cross-correlation matrix\n",
    "    c = torch.matmul(z1_norm.T, z2_norm) / batch_size\n",
    "\n",
    "    # Loss that pushes diagonals to 1\n",
    "    on_diag = torch.diagonal(c).add_(-1).pow_(2).sum()\n",
    "\n",
    "    # Loss that pushes off-diagonals to 0\n",
    "    off_diag = off_diag_elems(c).pow_(2).sum()\n",
    "\n",
    "    # Combine losses\n",
    "    loss = on_diag + lamda * off_diag\n",
    "\n",
    "    return loss\n"
   ]
  },
  {
   "cell_type": "code",
   "execution_count": 6,
   "metadata": {
    "colab": {
     "base_uri": "https://localhost:8080/"
    },
    "id": "IY7mgqQnjkFi",
    "outputId": "bec1bb6e-0c1c-4de2-9f89-00c62256c992"
   },
   "outputs": [
    {
     "name": "stdout",
     "output_type": "stream",
     "text": [
      "z1: \n",
      " tensor([[-0.6637, -2.2035, -0.5497,  0.1591],\n",
      "        [-0.8427, -0.3029, -1.2701, -0.8752],\n",
      "        [ 0.1743, -0.6272, -0.5871, -1.7928],\n",
      "        [-1.7089,  0.2134, -0.3203, -0.3736]])\n",
      "z2: \n",
      " tensor([[ 0.6968,  1.8388, -0.9387, -0.4800],\n",
      "        [-1.4524,  1.3257,  0.9204, -0.5180],\n",
      "        [-1.0516, -0.5895,  0.5390,  0.0944],\n",
      "        [-1.7974,  0.0804,  0.7257,  0.9933]])\n",
      "Loss: \n",
      " tensor(5.3352)\n"
     ]
    }
   ],
   "source": [
    "seed_everything()\n",
    "\n",
    "N = 4\n",
    "z1 = torch.randn(N, 4)\n",
    "z2 = torch.randn(N, 4)\n",
    "lamda = 5e-3\n",
    "\n",
    "loss = barlow_twins(z1, z2, lamda, N)\n",
    "\n",
    "print(\"z1: \\n\", z1)\n",
    "print(\"z2: \\n\", z2)\n",
    "print(\"Loss: \\n\", loss)"
   ]
  },
  {
   "cell_type": "markdown",
   "metadata": {
    "id": "emZ4VWK7nWvr"
   },
   "source": [
    "# 2. Implement the SimCLR model"
   ]
  },
  {
   "cell_type": "code",
   "execution_count": 7,
   "metadata": {
    "id": "Txvy1HDAc7P5"
   },
   "outputs": [],
   "source": [
    "import torch\n",
    "import torch.nn as nn\n",
    "import torchvision.models as models\n",
    "\n",
    "class SimCLR(nn.Module):\n",
    "    def __init__(self, base_encoder, projection_dim):\n",
    "        super().__init__()\n",
    "        self.enc = base_encoder(weights=False)\n",
    "        self.feature_dim = self.enc.fc.in_features\n",
    "\n",
    "        # Modifying the base encoder as mentioned in B4 of SimCLR\n",
    "        self.enc.conv1 = nn.Conv2d(3, 64, 3, 1, 1, bias=False)\n",
    "        self.enc.maxpool = nn.Identity()\n",
    "        self.enc.fc = nn.Identity()\n",
    "\n",
    "        # Add MLP projection.\n",
    "        self.projection_dim = projection_dim\n",
    "        self.projector = nn.Sequential(nn.Linear(self.feature_dim, 2048),\n",
    "                                       nn.ReLU(),\n",
    "                                       nn.Linear(2048, projection_dim))\n",
    "\n",
    "    def forward(self, x):\n",
    "\n",
    "        ######## Define the forward function ############################\n",
    "        feature = self.enc(x)\n",
    "        projection = self.projector(feature)\n",
    "        return feature, projection\n"
   ]
  },
  {
   "cell_type": "code",
   "execution_count": 8,
   "metadata": {
    "id": "xpsD3lHyd7Vh"
   },
   "outputs": [],
   "source": [
    "###########  Do not modify this cell ###########################\n",
    "# ===============================================================\n",
    "\n",
    "class AverageMeter(object):\n",
    "    \"\"\"Computes and stores the average and current value\"\"\"\n",
    "    def __init__(self, name):\n",
    "        self.name = name\n",
    "        self.reset()\n",
    "\n",
    "    def reset(self):\n",
    "        self.val = 0\n",
    "        self.avg = 0\n",
    "        self.sum = 0\n",
    "        self.count = 0\n",
    "\n",
    "    def update(self, val, n=1):\n",
    "        self.val = val\n",
    "        self.sum += val * n\n",
    "        self.count += n\n",
    "        self.avg = self.sum / self.count\n"
   ]
  },
  {
   "cell_type": "markdown",
   "metadata": {
    "id": "KMRlattQyClH"
   },
   "source": [
    "Creating pairs of image on the training set"
   ]
  },
  {
   "cell_type": "code",
   "execution_count": 9,
   "metadata": {
    "id": "9UUWeeUKgH8Z"
   },
   "outputs": [],
   "source": [
    "###########  Do not modify this cell ###########################\n",
    "# ===============================================================\n",
    "\n",
    "class CIFAR10Pair(CIFAR10):\n",
    "    \"\"\"Generate mini-batche pairs on CIFAR10 training set.\"\"\"\n",
    "    def __getitem__(self, idx):\n",
    "        img, target = self.data[idx], self.targets[idx]\n",
    "        img = Image.fromarray(img)\n",
    "        imgs = [self.transform(img), self.transform(img)]\n",
    "        return torch.stack(imgs), target  # stack a positive pair"
   ]
  },
  {
   "cell_type": "markdown",
   "metadata": {
    "id": "DZyRK1GGyQg-"
   },
   "source": [
    "#3. Define the transformations, dataloaders, model, optimizer, scheduler and parameters required for training"
   ]
  },
  {
   "cell_type": "code",
   "execution_count": 10,
   "metadata": {
    "id": "r8TI5Ts910fk"
   },
   "outputs": [],
   "source": [
    "############ Define the parameters for training ##############\n",
    "\n",
    "batch_size = 512\n",
    "projection_dim = 128\n",
    "learning_rate = 0.7\n",
    "momentum = 0.9\n",
    "weight_decay = 1e-4\n",
    "epochs = 50\n",
    "workers = 10\n"
   ]
  },
  {
   "cell_type": "code",
   "execution_count": 11,
   "metadata": {
    "colab": {
     "base_uri": "https://localhost:8080/"
    },
    "id": "gSKk3wpueZBW",
    "outputId": "8e3d045c-90e2-465a-e680-49f75ddb3260"
   },
   "outputs": [
    {
     "name": "stdout",
     "output_type": "stream",
     "text": [
      "Downloading https://www.cs.toronto.edu/~kriz/cifar-10-python.tar.gz to /content/cifar-10-python.tar.gz\n"
     ]
    },
    {
     "name": "stderr",
     "output_type": "stream",
     "text": [
      "100%|██████████| 170498071/170498071 [00:05<00:00, 31914964.20it/s]\n"
     ]
    },
    {
     "name": "stdout",
     "output_type": "stream",
     "text": [
      "Extracting /content/cifar-10-python.tar.gz to /content\n"
     ]
    },
    {
     "name": "stderr",
     "output_type": "stream",
     "text": [
      "/usr/local/lib/python3.10/dist-packages/torch/utils/data/dataloader.py:558: UserWarning: This DataLoader will create 10 worker processes in total. Our suggested max number of worker in current system is 2, which is smaller than what this DataLoader is going to create. Please be aware that excessive worker creation might get DataLoader running slow or even freeze, lower the worker number to avoid potential slowness/freeze if necessary.\n",
      "  warnings.warn(_create_warning_msg(\n",
      "/usr/local/lib/python3.10/dist-packages/torchvision/models/_utils.py:223: UserWarning: Arguments other than a weight enum or `None` for 'weights' are deprecated since 0.13 and may be removed in the future. The current behavior is equivalent to passing `weights=None`.\n",
      "  warnings.warn(msg)\n"
     ]
    }
   ],
   "source": [
    "assert torch.cuda.is_available()\n",
    "cudnn.benchmark = True\n",
    "\n",
    "#In writing the code, below link has been used as a reference in setting up the solver:\n",
    "#https://github.com/p3i0t/SimCLR-CIFAR10/tree/master\n",
    "\n",
    "def getting_color_distortion(s=0.5): #Github link (above) was used for this function\n",
    "    # s: the strength of color distortion\n",
    "    color_jittering = transforms.ColorJitter(0.8*s, 0.8*s, 0.8*s, 0.2*s)\n",
    "    random_color_jitter = transforms.RandomApply([color_jittering], p=0.8)\n",
    "    random_gray = transforms.RandomGrayscale(p=0.2)\n",
    "    color_distort = transforms.Compose([random_color_jitter, random_gray])\n",
    "    return color_distort\n",
    "\n",
    "######### Define the transformation on the training set\n",
    "### Refer to the paper to understand which transformations to use ######\n",
    "\n",
    "train_transform = transforms.Compose([transforms.RandomResizedCrop(32),\n",
    "                                          transforms.RandomHorizontalFlip(p=0.5),\n",
    "                                          getting_color_distortion(s=0.5),\n",
    "                                          transforms.ToTensor()])\n",
    "\n",
    "##### get absolute path of data dir\n",
    "\n",
    "data_dir = \"/content\"\n",
    "\n",
    "\n",
    "########## Define the train set and train dataloader and shuffle the train set\n",
    "\n",
    "train_set = CIFAR10Pair(root=data_dir,\n",
    "                        train=True,\n",
    "                        transform=train_transform,\n",
    "                        download=True)\n",
    "\n",
    "train_loader = DataLoader(train_set,\n",
    "                              batch_size=batch_size,\n",
    "                              shuffle=True,\n",
    "                              num_workers=workers,\n",
    "                              drop_last=True)\n",
    "\n",
    "\n",
    "######## Define the base encoder(resnet18) -- load from torchvision.models without pretraining\n",
    "\n",
    "base_encoder_func = models.resnet18\n",
    "model = SimCLR(models.resnet18, projection_dim= projection_dim)\n",
    "model = model.cuda()\n",
    "\n",
    "########### Define the optimizer and scheduler for training #######################\n",
    "\n",
    "optimizer = torch.optim.SGD(\n",
    "        model.parameters(),\n",
    "        lr = learning_rate,\n",
    "        momentum=momentum,\n",
    "        weight_decay=weight_decay,\n",
    "        nesterov=True)\n",
    "\n",
    "\n",
    "scheduler = torch.optim.lr_scheduler.CosineAnnealingLR(optimizer, T_max=len(train_loader)*epochs, eta_min=0.0001)\n"
   ]
  },
  {
   "cell_type": "code",
   "execution_count": 12,
   "metadata": {
    "id": "XT-fhx2bc2V6"
   },
   "outputs": [],
   "source": [
    "def train(args) -> None:\n",
    "    # SimCLR training\n",
    "    model.train()\n",
    "    best_loss = np.inf\n",
    "    for epoch in range(1, args['epochs'] + 1):\n",
    "        loss_meter = AverageMeter(\"SimCLR_loss\")\n",
    "        train_bar = tqdm(train_loader)\n",
    "        for x, y in train_bar:\n",
    "            sizes = x.size()\n",
    "            x = x.view(sizes[0] * 2, sizes[2], sizes[3], sizes[4]).cuda(non_blocking=True)\n",
    "            optimizer.zero_grad()\n",
    "\n",
    "            ####### Get the output from the model ################\n",
    "\n",
    "            feature, rep = model(x)\n",
    "\n",
    "            ###### Compute the loss using nt-cross entropy loss  #####################################\n",
    "\n",
    "            loss = nt_xent(rep, args['temperature'])\n",
    "            loss.backward()\n",
    "            optimizer.step()\n",
    "            scheduler.step()\n",
    "\n",
    "            loss_meter.update(loss.item(), x.size(0))\n",
    "            train_bar.set_description(\"Train epoch {}, SimCLR loss: {:.4f}\".format(epoch, loss_meter.avg))\n",
    "            if loss.item() < best_loss:\n",
    "                best_loss = loss.item()\n",
    "                torch.save(model.state_dict(), 'simclr_best_epoch.pt'.format(epoch))\n"
   ]
  },
  {
   "cell_type": "code",
   "execution_count": 13,
   "metadata": {
    "colab": {
     "base_uri": "https://localhost:8080/"
    },
    "id": "zNfD8KQkeCmS",
    "outputId": "61a9860d-87d4-40df-de35-7d42d5b35362"
   },
   "outputs": [
    {
     "name": "stderr",
     "output_type": "stream",
     "text": [
      "  0%|          | 0/97 [00:00<?, ?it/s]/usr/lib/python3.10/multiprocessing/popen_fork.py:66: RuntimeWarning: os.fork() was called. os.fork() is incompatible with multithreaded code, and JAX is multithreaded, so this will likely lead to a deadlock.\n",
      "  self.pid = os.fork()\n",
      "Train epoch 1, SimCLR loss: 6.4710: 100%|██████████| 97/97 [01:56<00:00,  1.36it/s]/usr/lib/python3.10/multiprocessing/popen_fork.py:66: RuntimeWarning: os.fork() was called. os.fork() is incompatible with multithreaded code, and JAX is multithreaded, so this will likely lead to a deadlock.\n",
      "  self.pid = os.fork()\n",
      "Train epoch 1, SimCLR loss: 6.4710: 100%|██████████| 97/97 [01:57<00:00,  1.21s/it]\n",
      "Train epoch 2, SimCLR loss: 6.2653: 100%|██████████| 97/97 [01:31<00:00,  1.06it/s]\n",
      "Train epoch 3, SimCLR loss: 6.1707: 100%|██████████| 97/97 [01:31<00:00,  1.06it/s]\n",
      "Train epoch 4, SimCLR loss: 6.1230: 100%|██████████| 97/97 [01:30<00:00,  1.07it/s]\n",
      "Train epoch 5, SimCLR loss: 6.0411: 100%|██████████| 97/97 [01:29<00:00,  1.09it/s]\n",
      "Train epoch 6, SimCLR loss: 5.9705: 100%|██████████| 97/97 [01:30<00:00,  1.07it/s]\n",
      "Train epoch 7, SimCLR loss: 5.9184: 100%|██████████| 97/97 [01:28<00:00,  1.10it/s]\n",
      "Train epoch 8, SimCLR loss: 5.8791: 100%|██████████| 97/97 [01:28<00:00,  1.10it/s]\n",
      "Train epoch 9, SimCLR loss: 5.8427: 100%|██████████| 97/97 [01:26<00:00,  1.12it/s]\n",
      "Train epoch 10, SimCLR loss: 5.8167: 100%|██████████| 97/97 [01:29<00:00,  1.08it/s]\n",
      "Train epoch 11, SimCLR loss: 5.7982: 100%|██████████| 97/97 [01:26<00:00,  1.13it/s]\n",
      "Train epoch 12, SimCLR loss: 5.7815: 100%|██████████| 97/97 [01:25<00:00,  1.13it/s]\n",
      "Train epoch 13, SimCLR loss: 5.7595: 100%|██████████| 97/97 [01:26<00:00,  1.12it/s]\n",
      "Train epoch 14, SimCLR loss: 5.7433: 100%|██████████| 97/97 [01:26<00:00,  1.13it/s]\n",
      "Train epoch 15, SimCLR loss: 5.7291: 100%|██████████| 97/97 [01:27<00:00,  1.11it/s]\n",
      "Train epoch 16, SimCLR loss: 5.7127: 100%|██████████| 97/97 [01:27<00:00,  1.11it/s]\n",
      "Train epoch 17, SimCLR loss: 5.7011: 100%|██████████| 97/97 [01:28<00:00,  1.10it/s]\n",
      "Train epoch 18, SimCLR loss: 5.6904: 100%|██████████| 97/97 [01:26<00:00,  1.13it/s]\n",
      "Train epoch 19, SimCLR loss: 5.6807: 100%|██████████| 97/97 [01:26<00:00,  1.12it/s]\n",
      "Train epoch 20, SimCLR loss: 5.6766: 100%|██████████| 97/97 [01:26<00:00,  1.12it/s]\n",
      "Train epoch 21, SimCLR loss: 5.6633: 100%|██████████| 97/97 [01:27<00:00,  1.10it/s]\n",
      "Train epoch 22, SimCLR loss: 5.6542: 100%|██████████| 97/97 [01:27<00:00,  1.11it/s]\n",
      "Train epoch 23, SimCLR loss: 5.6491: 100%|██████████| 97/97 [01:26<00:00,  1.12it/s]\n",
      "Train epoch 24, SimCLR loss: 5.6364: 100%|██████████| 97/97 [01:26<00:00,  1.13it/s]\n",
      "Train epoch 25, SimCLR loss: 5.6310: 100%|██████████| 97/97 [01:25<00:00,  1.13it/s]\n",
      "Train epoch 26, SimCLR loss: 5.6249: 100%|██████████| 97/97 [01:26<00:00,  1.13it/s]\n",
      "Train epoch 27, SimCLR loss: 5.6143: 100%|██████████| 97/97 [01:26<00:00,  1.12it/s]\n",
      "Train epoch 28, SimCLR loss: 5.6123: 100%|██████████| 97/97 [01:26<00:00,  1.13it/s]\n",
      "Train epoch 29, SimCLR loss: 5.6063: 100%|██████████| 97/97 [01:26<00:00,  1.12it/s]\n",
      "Train epoch 30, SimCLR loss: 5.6010: 100%|██████████| 97/97 [01:26<00:00,  1.12it/s]\n",
      "Train epoch 31, SimCLR loss: 5.5933: 100%|██████████| 97/97 [01:26<00:00,  1.12it/s]\n",
      "Train epoch 32, SimCLR loss: 5.5861: 100%|██████████| 97/97 [01:27<00:00,  1.11it/s]\n",
      "Train epoch 33, SimCLR loss: 5.5826: 100%|██████████| 97/97 [01:26<00:00,  1.12it/s]\n",
      "Train epoch 34, SimCLR loss: 5.5783: 100%|██████████| 97/97 [01:26<00:00,  1.13it/s]\n",
      "Train epoch 35, SimCLR loss: 5.5665: 100%|██████████| 97/97 [01:27<00:00,  1.11it/s]\n",
      "Train epoch 36, SimCLR loss: 5.5640: 100%|██████████| 97/97 [01:26<00:00,  1.12it/s]\n",
      "Train epoch 37, SimCLR loss: 5.5603: 100%|██████████| 97/97 [01:26<00:00,  1.12it/s]\n",
      "Train epoch 38, SimCLR loss: 5.5530: 100%|██████████| 97/97 [01:27<00:00,  1.11it/s]\n",
      "Train epoch 39, SimCLR loss: 5.5470: 100%|██████████| 97/97 [01:27<00:00,  1.11it/s]\n",
      "Train epoch 40, SimCLR loss: 5.5395: 100%|██████████| 97/97 [01:26<00:00,  1.12it/s]\n",
      "Train epoch 41, SimCLR loss: 5.5357: 100%|██████████| 97/97 [01:27<00:00,  1.11it/s]\n",
      "Train epoch 42, SimCLR loss: 5.5307: 100%|██████████| 97/97 [01:27<00:00,  1.11it/s]\n",
      "Train epoch 43, SimCLR loss: 5.5309: 100%|██████████| 97/97 [01:26<00:00,  1.12it/s]\n",
      "Train epoch 44, SimCLR loss: 5.5261: 100%|██████████| 97/97 [01:26<00:00,  1.12it/s]\n",
      "Train epoch 45, SimCLR loss: 5.5207: 100%|██████████| 97/97 [01:26<00:00,  1.12it/s]\n",
      "Train epoch 46, SimCLR loss: 5.5167: 100%|██████████| 97/97 [01:27<00:00,  1.11it/s]\n",
      "Train epoch 47, SimCLR loss: 5.5181: 100%|██████████| 97/97 [01:26<00:00,  1.12it/s]\n",
      "Train epoch 48, SimCLR loss: 5.5157: 100%|██████████| 97/97 [01:24<00:00,  1.14it/s]\n",
      "Train epoch 49, SimCLR loss: 5.5134: 100%|██████████| 97/97 [01:25<00:00,  1.13it/s]\n",
      "Train epoch 50, SimCLR loss: 5.5132: 100%|██████████| 97/97 [01:26<00:00,  1.12it/s]\n"
     ]
    }
   ],
   "source": [
    "args = {\n",
    "    'epochs':  50,\n",
    "    'batch_size': 512,\n",
    "    'temperature': 0.5 ,\n",
    "}\n",
    "\n",
    "train(args)"
   ]
  },
  {
   "cell_type": "markdown",
   "metadata": {
    "id": "BmgKAHPnTz_d"
   },
   "source": [
    "# Finetuning and testing the saved model"
   ]
  },
  {
   "cell_type": "code",
   "execution_count": 14,
   "metadata": {
    "id": "9BBAXJwiTzQG"
   },
   "outputs": [],
   "source": [
    "###########  Do not modify this cell ###########################\n",
    "# ===============================================================\n",
    "\n",
    "\n",
    "class LinModel(nn.Module):\n",
    "    \"\"\"Linear wrapper of encoder.\"\"\"\n",
    "    def __init__(self, encoder: nn.Module, feature_dim: int, n_classes: int):\n",
    "        super().__init__()\n",
    "        self.enc = encoder\n",
    "        self.feature_dim = feature_dim\n",
    "        self.n_classes = n_classes\n",
    "        self.lin = nn.Linear(self.feature_dim, self.n_classes)\n",
    "\n",
    "    def forward(self, x):\n",
    "        x = self.enc(x)\n",
    "        x = self.lin(x)\n",
    "        return x"
   ]
  },
  {
   "cell_type": "code",
   "execution_count": 15,
   "metadata": {
    "id": "u1lM-GlnTzYa"
   },
   "outputs": [],
   "source": [
    "###########  Do not modify this cell ###########################\n",
    "# ===============================================================\n",
    "\n",
    "def run_epoch(model, dataloader, epoch, optimizer=None, scheduler=None):\n",
    "    if optimizer:\n",
    "        model.train()\n",
    "        print(\"training...........\")\n",
    "    else:\n",
    "        model.eval()\n",
    "        print(\"eval...............\")\n",
    "\n",
    "    loss_meter = AverageMeter('loss')\n",
    "    acc_meter = AverageMeter('acc')\n",
    "    loader_bar = tqdm(dataloader)\n",
    "    for x, y in loader_bar:\n",
    "        x, y = x.cuda(), y.cuda()\n",
    "        logits = model(x)\n",
    "        loss = F.cross_entropy(logits, y)\n",
    "\n",
    "        if optimizer:\n",
    "            optimizer.zero_grad()\n",
    "            loss.backward()\n",
    "            optimizer.step()\n",
    "            if scheduler:\n",
    "                scheduler.step()\n",
    "\n",
    "        acc = (logits.argmax(dim=1) == y).float().mean()\n",
    "        loss_meter.update(loss.item(), x.size(0))\n",
    "        acc_meter.update(acc.item(), x.size(0))\n",
    "        if optimizer:\n",
    "            loader_bar.set_description(\"Train epoch {}, loss: {:.4f}, acc: {:.4f}\"\n",
    "                                       .format(epoch, loss_meter.avg, acc_meter.avg))\n",
    "        else:\n",
    "            loader_bar.set_description(\"Test epoch {}, loss: {:.4f}, acc: {:.4f}\"\n",
    "                                       .format(epoch, loss_meter.avg, acc_meter.avg))\n",
    "\n",
    "    return loss_meter.avg, acc_meter.avg"
   ]
  },
  {
   "cell_type": "code",
   "execution_count": 16,
   "metadata": {
    "colab": {
     "base_uri": "https://localhost:8080/"
    },
    "id": "ZVZdfHCGZhu1",
    "outputId": "dfdece17-6d28-42ab-aed8-975ab0e13d53"
   },
   "outputs": [
    {
     "name": "stderr",
     "output_type": "stream",
     "text": [
      "/usr/local/lib/python3.10/dist-packages/torch/utils/data/dataloader.py:558: UserWarning: This DataLoader will create 6 worker processes in total. Our suggested max number of worker in current system is 2, which is smaller than what this DataLoader is going to create. Please be aware that excessive worker creation might get DataLoader running slow or even freeze, lower the worker number to avoid potential slowness/freeze if necessary.\n",
      "  warnings.warn(_create_warning_msg(\n"
     ]
    }
   ],
   "source": [
    "############################################ Define train and test transforms #########################################################\n",
    "### Refer to the paper to understand which transformations to use ######\n",
    "\n",
    "train_transform = transforms.Compose([transforms.RandomResizedCrop(32),\n",
    "                                          transforms.RandomHorizontalFlip(p=0.5),\n",
    "                                          transforms.ToTensor()])\n",
    "\n",
    "test_transform = transforms.ToTensor()\n",
    "\n",
    "data_dir = '/content'\n",
    "\n",
    "###################################### Define train and test dataloader #########################################\n",
    "\n",
    "train_set = CIFAR10(root=data_dir, train=True, transform=train_transform, download=False)\n",
    "test_set = CIFAR10(root=data_dir, train=False, transform=test_transform, download=False)\n",
    "\n",
    "n_classes = 10\n",
    "num_workers = 6\n",
    "\n",
    "train_loader = DataLoader(train_set, batch_size= batch_size, shuffle=True, num_workers=num_workers, pin_memory=True)\n",
    "test_loader = DataLoader(test_set, batch_size= batch_size, shuffle=False, num_workers=num_workers, pin_memory=True)\n",
    "\n",
    "################################ Define the model and load the trained weights of the best model ##############################\n",
    "\"\"\"\n",
    "Load the weights for the best SimCLR model and pass the encoder to LinModel for fine-tuning\n",
    "\"\"\"\n",
    "\n",
    "base_encoder_func = models.resnet18\n",
    "pre_model = SimCLR(base_encoder_func, projection_dim= projection_dim)\n",
    "\n",
    "model_path = 'simclr_best_epoch.pt'\n",
    "\n",
    "pre_model.load_state_dict(torch.load(model_path))\n",
    "\n",
    "model = LinModel(pre_model.enc, feature_dim=pre_model.feature_dim, n_classes=len(train_set.targets))\n",
    "model = model.cuda()\n",
    "\n",
    "# Fix encoder\n",
    "model.enc.requires_grad = False\n",
    "parameters = [param for param in model.parameters() if param.requires_grad is True]  # trainable parameters.\n",
    "\n",
    "############################# Define the optimizer and scheduler ###################################################\n",
    "\n",
    "\n",
    "optimizer = torch.optim.SGD(\n",
    "        model.parameters(),\n",
    "        lr = 0.2,\n",
    "        momentum=momentum,\n",
    "        weight_decay= 0,\n",
    "        nesterov=True)\n",
    "\n",
    "\n",
    "scheduler = torch.optim.lr_scheduler.CosineAnnealingLR(optimizer, T_max=len(train_loader)*epochs, eta_min=0.001)\n",
    "\n"
   ]
  },
  {
   "cell_type": "code",
   "execution_count": 17,
   "metadata": {
    "id": "g2XRPeRATzbV"
   },
   "outputs": [],
   "source": [
    "###########  Do not modify this cell ###########################\n",
    "# ===============================================================\n",
    "\n",
    "def finetune() -> None:\n",
    "\n",
    "    optimal_loss, optimal_acc = 1e5, 0.\n",
    "    train_losses, test_losses = [], []\n",
    "    train_accuracies, test_accuracies = [], []\n",
    "    for epoch in range(1, epochs + 1):\n",
    "        train_loss, train_acc = run_epoch(model, train_loader, epoch, optimizer, scheduler)\n",
    "        train_losses.append(train_loss)\n",
    "        train_accuracies.append(train_acc)\n",
    "        test_loss, test_acc = run_epoch(model, test_loader, epoch)\n",
    "        test_losses.append(test_loss)\n",
    "        test_accuracies.append(test_acc)\n",
    "\n",
    "        if train_loss < optimal_loss:\n",
    "            optimal_loss = train_loss\n",
    "            optimal_acc = test_acc\n",
    "            torch.save(model.state_dict(), 'simclr_lin_best.pth')\n",
    "\n",
    "    return train_losses, train_accuracies, test_losses, test_accuracies"
   ]
  },
  {
   "cell_type": "code",
   "execution_count": 18,
   "metadata": {
    "colab": {
     "base_uri": "https://localhost:8080/",
     "height": 1000
    },
    "id": "IbSR0nWqTzeg",
    "outputId": "8045194e-1f32-42cd-a9b4-862530e8da33"
   },
   "outputs": [
    {
     "name": "stdout",
     "output_type": "stream",
     "text": [
      "training...........\n"
     ]
    },
    {
     "name": "stderr",
     "output_type": "stream",
     "text": [
      "Train epoch 1, loss: 1.6148, acc: 0.6195: 100%|██████████| 98/98 [00:58<00:00,  1.68it/s]\n"
     ]
    },
    {
     "name": "stdout",
     "output_type": "stream",
     "text": [
      "eval...............\n"
     ]
    },
    {
     "name": "stderr",
     "output_type": "stream",
     "text": [
      "Test epoch 1, loss: 1.2891, acc: 0.6247: 100%|██████████| 20/20 [00:04<00:00,  4.46it/s]\n"
     ]
    },
    {
     "name": "stdout",
     "output_type": "stream",
     "text": [
      "training...........\n"
     ]
    },
    {
     "name": "stderr",
     "output_type": "stream",
     "text": [
      "Train epoch 2, loss: 0.7831, acc: 0.7223: 100%|██████████| 98/98 [00:41<00:00,  2.37it/s]\n"
     ]
    },
    {
     "name": "stdout",
     "output_type": "stream",
     "text": [
      "eval...............\n"
     ]
    },
    {
     "name": "stderr",
     "output_type": "stream",
     "text": [
      "Test epoch 2, loss: 0.5718, acc: 0.8042: 100%|██████████| 20/20 [00:03<00:00,  5.73it/s]\n"
     ]
    },
    {
     "name": "stdout",
     "output_type": "stream",
     "text": [
      "training...........\n"
     ]
    },
    {
     "name": "stderr",
     "output_type": "stream",
     "text": [
      "Train epoch 3, loss: 0.7258, acc: 0.7447: 100%|██████████| 98/98 [00:41<00:00,  2.36it/s]\n"
     ]
    },
    {
     "name": "stdout",
     "output_type": "stream",
     "text": [
      "eval...............\n"
     ]
    },
    {
     "name": "stderr",
     "output_type": "stream",
     "text": [
      "Test epoch 3, loss: 0.5853, acc: 0.8009: 100%|██████████| 20/20 [00:03<00:00,  5.29it/s]\n"
     ]
    },
    {
     "name": "stdout",
     "output_type": "stream",
     "text": [
      "training...........\n"
     ]
    },
    {
     "name": "stderr",
     "output_type": "stream",
     "text": [
      "Train epoch 4, loss: 0.6764, acc: 0.7629: 100%|██████████| 98/98 [00:41<00:00,  2.36it/s]\n"
     ]
    },
    {
     "name": "stdout",
     "output_type": "stream",
     "text": [
      "eval...............\n"
     ]
    },
    {
     "name": "stderr",
     "output_type": "stream",
     "text": [
      "Test epoch 4, loss: 0.5737, acc: 0.8089: 100%|██████████| 20/20 [00:03<00:00,  5.98it/s]\n"
     ]
    },
    {
     "name": "stdout",
     "output_type": "stream",
     "text": [
      "training...........\n"
     ]
    },
    {
     "name": "stderr",
     "output_type": "stream",
     "text": [
      "Train epoch 5, loss: 0.6404, acc: 0.7764: 100%|██████████| 98/98 [00:42<00:00,  2.32it/s]\n"
     ]
    },
    {
     "name": "stdout",
     "output_type": "stream",
     "text": [
      "eval...............\n"
     ]
    },
    {
     "name": "stderr",
     "output_type": "stream",
     "text": [
      "Test epoch 5, loss: 0.5857, acc: 0.8067: 100%|██████████| 20/20 [00:03<00:00,  5.94it/s]\n"
     ]
    },
    {
     "name": "stdout",
     "output_type": "stream",
     "text": [
      "training...........\n"
     ]
    },
    {
     "name": "stderr",
     "output_type": "stream",
     "text": [
      "Train epoch 6, loss: 0.6145, acc: 0.7852: 100%|██████████| 98/98 [00:41<00:00,  2.37it/s]\n"
     ]
    },
    {
     "name": "stdout",
     "output_type": "stream",
     "text": [
      "eval...............\n"
     ]
    },
    {
     "name": "stderr",
     "output_type": "stream",
     "text": [
      "Test epoch 6, loss: 0.5425, acc: 0.8233: 100%|██████████| 20/20 [00:03<00:00,  5.79it/s]\n"
     ]
    },
    {
     "name": "stdout",
     "output_type": "stream",
     "text": [
      "training...........\n"
     ]
    },
    {
     "name": "stderr",
     "output_type": "stream",
     "text": [
      "Train epoch 7, loss: 0.5922, acc: 0.7933: 100%|██████████| 98/98 [00:41<00:00,  2.35it/s]\n"
     ]
    },
    {
     "name": "stdout",
     "output_type": "stream",
     "text": [
      "eval...............\n"
     ]
    },
    {
     "name": "stderr",
     "output_type": "stream",
     "text": [
      "Test epoch 7, loss: 0.4687, acc: 0.8400: 100%|██████████| 20/20 [00:03<00:00,  5.82it/s]\n"
     ]
    },
    {
     "name": "stdout",
     "output_type": "stream",
     "text": [
      "training...........\n"
     ]
    },
    {
     "name": "stderr",
     "output_type": "stream",
     "text": [
      "Train epoch 8, loss: 0.5720, acc: 0.7991: 100%|██████████| 98/98 [00:41<00:00,  2.38it/s]\n"
     ]
    },
    {
     "name": "stdout",
     "output_type": "stream",
     "text": [
      "eval...............\n"
     ]
    },
    {
     "name": "stderr",
     "output_type": "stream",
     "text": [
      "Test epoch 8, loss: 0.4562, acc: 0.8488: 100%|██████████| 20/20 [00:03<00:00,  5.67it/s]\n"
     ]
    },
    {
     "name": "stdout",
     "output_type": "stream",
     "text": [
      "training...........\n"
     ]
    },
    {
     "name": "stderr",
     "output_type": "stream",
     "text": [
      "Train epoch 9, loss: 0.5457, acc: 0.8094: 100%|██████████| 98/98 [00:41<00:00,  2.36it/s]\n"
     ]
    },
    {
     "name": "stdout",
     "output_type": "stream",
     "text": [
      "eval...............\n"
     ]
    },
    {
     "name": "stderr",
     "output_type": "stream",
     "text": [
      "Test epoch 9, loss: 0.4806, acc: 0.8434: 100%|██████████| 20/20 [00:03<00:00,  5.95it/s]\n"
     ]
    },
    {
     "name": "stdout",
     "output_type": "stream",
     "text": [
      "training...........\n"
     ]
    },
    {
     "name": "stderr",
     "output_type": "stream",
     "text": [
      "Train epoch 10, loss: 0.5273, acc: 0.8158: 100%|██████████| 98/98 [00:41<00:00,  2.37it/s]\n"
     ]
    },
    {
     "name": "stdout",
     "output_type": "stream",
     "text": [
      "eval...............\n"
     ]
    },
    {
     "name": "stderr",
     "output_type": "stream",
     "text": [
      "Test epoch 10, loss: 0.4275, acc: 0.8644: 100%|██████████| 20/20 [00:03<00:00,  5.10it/s]\n"
     ]
    },
    {
     "name": "stdout",
     "output_type": "stream",
     "text": [
      "training...........\n"
     ]
    },
    {
     "name": "stderr",
     "output_type": "stream",
     "text": [
      "Train epoch 11, loss: 0.5226, acc: 0.8163: 100%|██████████| 98/98 [00:41<00:00,  2.36it/s]\n"
     ]
    },
    {
     "name": "stdout",
     "output_type": "stream",
     "text": [
      "eval...............\n"
     ]
    },
    {
     "name": "stderr",
     "output_type": "stream",
     "text": [
      "Test epoch 11, loss: 0.3586, acc: 0.8793: 100%|██████████| 20/20 [00:03<00:00,  5.88it/s]\n"
     ]
    },
    {
     "name": "stdout",
     "output_type": "stream",
     "text": [
      "training...........\n"
     ]
    },
    {
     "name": "stderr",
     "output_type": "stream",
     "text": [
      "Train epoch 12, loss: 0.5024, acc: 0.8235: 100%|██████████| 98/98 [00:41<00:00,  2.37it/s]\n"
     ]
    },
    {
     "name": "stdout",
     "output_type": "stream",
     "text": [
      "eval...............\n"
     ]
    },
    {
     "name": "stderr",
     "output_type": "stream",
     "text": [
      "Test epoch 12, loss: 0.5125, acc: 0.8394: 100%|██████████| 20/20 [00:03<00:00,  5.41it/s]\n"
     ]
    },
    {
     "name": "stdout",
     "output_type": "stream",
     "text": [
      "training...........\n"
     ]
    },
    {
     "name": "stderr",
     "output_type": "stream",
     "text": [
      "Train epoch 13, loss: 0.4816, acc: 0.8308: 100%|██████████| 98/98 [00:41<00:00,  2.35it/s]\n"
     ]
    },
    {
     "name": "stdout",
     "output_type": "stream",
     "text": [
      "eval...............\n"
     ]
    },
    {
     "name": "stderr",
     "output_type": "stream",
     "text": [
      "Test epoch 13, loss: 0.5428, acc: 0.8458: 100%|██████████| 20/20 [00:03<00:00,  5.90it/s]\n"
     ]
    },
    {
     "name": "stdout",
     "output_type": "stream",
     "text": [
      "training...........\n"
     ]
    },
    {
     "name": "stderr",
     "output_type": "stream",
     "text": [
      "Train epoch 14, loss: 0.4693, acc: 0.8353: 100%|██████████| 98/98 [00:42<00:00,  2.33it/s]\n"
     ]
    },
    {
     "name": "stdout",
     "output_type": "stream",
     "text": [
      "eval...............\n"
     ]
    },
    {
     "name": "stderr",
     "output_type": "stream",
     "text": [
      "Test epoch 14, loss: 0.4043, acc: 0.8673: 100%|██████████| 20/20 [00:03<00:00,  5.98it/s]\n"
     ]
    },
    {
     "name": "stdout",
     "output_type": "stream",
     "text": [
      "training...........\n"
     ]
    },
    {
     "name": "stderr",
     "output_type": "stream",
     "text": [
      "Train epoch 15, loss: 0.4620, acc: 0.8376: 100%|██████████| 98/98 [00:41<00:00,  2.37it/s]\n"
     ]
    },
    {
     "name": "stdout",
     "output_type": "stream",
     "text": [
      "eval...............\n"
     ]
    },
    {
     "name": "stderr",
     "output_type": "stream",
     "text": [
      "Test epoch 15, loss: 0.3752, acc: 0.8834: 100%|██████████| 20/20 [00:03<00:00,  5.79it/s]\n"
     ]
    },
    {
     "name": "stdout",
     "output_type": "stream",
     "text": [
      "training...........\n"
     ]
    },
    {
     "name": "stderr",
     "output_type": "stream",
     "text": [
      "Train epoch 16, loss: 0.4525, acc: 0.8403: 100%|██████████| 98/98 [00:41<00:00,  2.37it/s]\n"
     ]
    },
    {
     "name": "stdout",
     "output_type": "stream",
     "text": [
      "eval...............\n"
     ]
    },
    {
     "name": "stderr",
     "output_type": "stream",
     "text": [
      "Test epoch 16, loss: 0.3726, acc: 0.8792: 100%|██████████| 20/20 [00:03<00:00,  5.82it/s]\n"
     ]
    },
    {
     "name": "stdout",
     "output_type": "stream",
     "text": [
      "training...........\n"
     ]
    },
    {
     "name": "stderr",
     "output_type": "stream",
     "text": [
      "Train epoch 17, loss: 0.4344, acc: 0.8485: 100%|██████████| 98/98 [00:41<00:00,  2.38it/s]\n"
     ]
    },
    {
     "name": "stdout",
     "output_type": "stream",
     "text": [
      "eval...............\n"
     ]
    },
    {
     "name": "stderr",
     "output_type": "stream",
     "text": [
      "Test epoch 17, loss: 0.3862, acc: 0.8792: 100%|██████████| 20/20 [00:03<00:00,  5.58it/s]\n"
     ]
    },
    {
     "name": "stdout",
     "output_type": "stream",
     "text": [
      "training...........\n"
     ]
    },
    {
     "name": "stderr",
     "output_type": "stream",
     "text": [
      "Train epoch 18, loss: 0.4274, acc: 0.8503: 100%|██████████| 98/98 [00:41<00:00,  2.38it/s]\n"
     ]
    },
    {
     "name": "stdout",
     "output_type": "stream",
     "text": [
      "eval...............\n"
     ]
    },
    {
     "name": "stderr",
     "output_type": "stream",
     "text": [
      "Test epoch 18, loss: 0.4331, acc: 0.8709: 100%|██████████| 20/20 [00:03<00:00,  5.83it/s]\n"
     ]
    },
    {
     "name": "stdout",
     "output_type": "stream",
     "text": [
      "training...........\n"
     ]
    },
    {
     "name": "stderr",
     "output_type": "stream",
     "text": [
      "Train epoch 19, loss: 0.4157, acc: 0.8554: 100%|██████████| 98/98 [00:41<00:00,  2.37it/s]\n"
     ]
    },
    {
     "name": "stdout",
     "output_type": "stream",
     "text": [
      "eval...............\n"
     ]
    },
    {
     "name": "stderr",
     "output_type": "stream",
     "text": [
      "Test epoch 19, loss: 0.3444, acc: 0.8886: 100%|██████████| 20/20 [00:03<00:00,  5.16it/s]\n"
     ]
    },
    {
     "name": "stdout",
     "output_type": "stream",
     "text": [
      "training...........\n"
     ]
    },
    {
     "name": "stderr",
     "output_type": "stream",
     "text": [
      "Train epoch 20, loss: 0.4025, acc: 0.8591: 100%|██████████| 98/98 [00:41<00:00,  2.38it/s]\n"
     ]
    },
    {
     "name": "stdout",
     "output_type": "stream",
     "text": [
      "eval...............\n"
     ]
    },
    {
     "name": "stderr",
     "output_type": "stream",
     "text": [
      "Test epoch 20, loss: 0.3660, acc: 0.8872: 100%|██████████| 20/20 [00:03<00:00,  6.00it/s]\n"
     ]
    },
    {
     "name": "stdout",
     "output_type": "stream",
     "text": [
      "training...........\n"
     ]
    },
    {
     "name": "stderr",
     "output_type": "stream",
     "text": [
      "Train epoch 21, loss: 0.3979, acc: 0.8608: 100%|██████████| 98/98 [00:41<00:00,  2.38it/s]\n"
     ]
    },
    {
     "name": "stdout",
     "output_type": "stream",
     "text": [
      "eval...............\n"
     ]
    },
    {
     "name": "stderr",
     "output_type": "stream",
     "text": [
      "Test epoch 21, loss: 0.3404, acc: 0.8954: 100%|██████████| 20/20 [00:03<00:00,  5.29it/s]\n"
     ]
    },
    {
     "name": "stdout",
     "output_type": "stream",
     "text": [
      "training...........\n"
     ]
    },
    {
     "name": "stderr",
     "output_type": "stream",
     "text": [
      "Train epoch 22, loss: 0.3801, acc: 0.8659: 100%|██████████| 98/98 [00:41<00:00,  2.35it/s]\n"
     ]
    },
    {
     "name": "stdout",
     "output_type": "stream",
     "text": [
      "eval...............\n"
     ]
    },
    {
     "name": "stderr",
     "output_type": "stream",
     "text": [
      "Test epoch 22, loss: 0.3280, acc: 0.8993: 100%|██████████| 20/20 [00:03<00:00,  5.79it/s]\n"
     ]
    },
    {
     "name": "stdout",
     "output_type": "stream",
     "text": [
      "training...........\n"
     ]
    },
    {
     "name": "stderr",
     "output_type": "stream",
     "text": [
      "Train epoch 23, loss: 0.3753, acc: 0.8687: 100%|██████████| 98/98 [00:41<00:00,  2.34it/s]\n"
     ]
    },
    {
     "name": "stdout",
     "output_type": "stream",
     "text": [
      "eval...............\n"
     ]
    },
    {
     "name": "stderr",
     "output_type": "stream",
     "text": [
      "Test epoch 23, loss: 0.3457, acc: 0.8979: 100%|██████████| 20/20 [00:03<00:00,  5.96it/s]\n"
     ]
    },
    {
     "name": "stdout",
     "output_type": "stream",
     "text": [
      "training...........\n"
     ]
    },
    {
     "name": "stderr",
     "output_type": "stream",
     "text": [
      "Train epoch 24, loss: 0.3644, acc: 0.8721: 100%|██████████| 98/98 [00:41<00:00,  2.36it/s]\n"
     ]
    },
    {
     "name": "stdout",
     "output_type": "stream",
     "text": [
      "eval...............\n"
     ]
    },
    {
     "name": "stderr",
     "output_type": "stream",
     "text": [
      "Test epoch 24, loss: 0.3150, acc: 0.8997: 100%|██████████| 20/20 [00:03<00:00,  5.59it/s]\n"
     ]
    },
    {
     "name": "stdout",
     "output_type": "stream",
     "text": [
      "training...........\n"
     ]
    },
    {
     "name": "stderr",
     "output_type": "stream",
     "text": [
      "Train epoch 25, loss: 0.3572, acc: 0.8753: 100%|██████████| 98/98 [00:41<00:00,  2.34it/s]\n"
     ]
    },
    {
     "name": "stdout",
     "output_type": "stream",
     "text": [
      "eval...............\n"
     ]
    },
    {
     "name": "stderr",
     "output_type": "stream",
     "text": [
      "Test epoch 25, loss: 0.3156, acc: 0.9046: 100%|██████████| 20/20 [00:03<00:00,  5.66it/s]\n"
     ]
    },
    {
     "name": "stdout",
     "output_type": "stream",
     "text": [
      "training...........\n"
     ]
    },
    {
     "name": "stderr",
     "output_type": "stream",
     "text": [
      "Train epoch 26, loss: 0.3499, acc: 0.8774: 100%|██████████| 98/98 [00:41<00:00,  2.36it/s]\n"
     ]
    },
    {
     "name": "stdout",
     "output_type": "stream",
     "text": [
      "eval...............\n"
     ]
    },
    {
     "name": "stderr",
     "output_type": "stream",
     "text": [
      "Test epoch 26, loss: 0.3150, acc: 0.9038: 100%|██████████| 20/20 [00:03<00:00,  5.10it/s]\n"
     ]
    },
    {
     "name": "stdout",
     "output_type": "stream",
     "text": [
      "training...........\n"
     ]
    },
    {
     "name": "stderr",
     "output_type": "stream",
     "text": [
      "Train epoch 27, loss: 0.3442, acc: 0.8798: 100%|██████████| 98/98 [00:41<00:00,  2.36it/s]\n"
     ]
    },
    {
     "name": "stdout",
     "output_type": "stream",
     "text": [
      "eval...............\n"
     ]
    },
    {
     "name": "stderr",
     "output_type": "stream",
     "text": [
      "Test epoch 27, loss: 0.3174, acc: 0.9055: 100%|██████████| 20/20 [00:03<00:00,  5.88it/s]\n"
     ]
    },
    {
     "name": "stdout",
     "output_type": "stream",
     "text": [
      "training...........\n"
     ]
    },
    {
     "name": "stderr",
     "output_type": "stream",
     "text": [
      "Train epoch 28, loss: 0.3327, acc: 0.8848: 100%|██████████| 98/98 [00:41<00:00,  2.37it/s]\n"
     ]
    },
    {
     "name": "stdout",
     "output_type": "stream",
     "text": [
      "eval...............\n"
     ]
    },
    {
     "name": "stderr",
     "output_type": "stream",
     "text": [
      "Test epoch 28, loss: 0.3060, acc: 0.9112: 100%|██████████| 20/20 [00:03<00:00,  5.31it/s]\n"
     ]
    },
    {
     "name": "stdout",
     "output_type": "stream",
     "text": [
      "training...........\n"
     ]
    },
    {
     "name": "stderr",
     "output_type": "stream",
     "text": [
      "Train epoch 29, loss: 0.3310, acc: 0.8840: 100%|██████████| 98/98 [00:41<00:00,  2.37it/s]\n"
     ]
    },
    {
     "name": "stdout",
     "output_type": "stream",
     "text": [
      "eval...............\n"
     ]
    },
    {
     "name": "stderr",
     "output_type": "stream",
     "text": [
      "Test epoch 29, loss: 0.3110, acc: 0.9085: 100%|██████████| 20/20 [00:03<00:00,  5.84it/s]\n"
     ]
    },
    {
     "name": "stdout",
     "output_type": "stream",
     "text": [
      "training...........\n"
     ]
    },
    {
     "name": "stderr",
     "output_type": "stream",
     "text": [
      "Train epoch 30, loss: 0.3223, acc: 0.8867: 100%|██████████| 98/98 [00:41<00:00,  2.35it/s]\n"
     ]
    },
    {
     "name": "stdout",
     "output_type": "stream",
     "text": [
      "eval...............\n"
     ]
    },
    {
     "name": "stderr",
     "output_type": "stream",
     "text": [
      "Test epoch 30, loss: 0.2957, acc: 0.9133: 100%|██████████| 20/20 [00:03<00:00,  5.83it/s]\n"
     ]
    },
    {
     "name": "stdout",
     "output_type": "stream",
     "text": [
      "training...........\n"
     ]
    },
    {
     "name": "stderr",
     "output_type": "stream",
     "text": [
      "Train epoch 31, loss: 0.3178, acc: 0.8891: 100%|██████████| 98/98 [00:41<00:00,  2.37it/s]\n"
     ]
    },
    {
     "name": "stdout",
     "output_type": "stream",
     "text": [
      "eval...............\n"
     ]
    },
    {
     "name": "stderr",
     "output_type": "stream",
     "text": [
      "Test epoch 31, loss: 0.3174, acc: 0.9100: 100%|██████████| 20/20 [00:03<00:00,  5.74it/s]\n"
     ]
    },
    {
     "name": "stdout",
     "output_type": "stream",
     "text": [
      "training...........\n"
     ]
    },
    {
     "name": "stderr",
     "output_type": "stream",
     "text": [
      "Train epoch 32, loss: 0.3108, acc: 0.8916: 100%|██████████| 98/98 [00:41<00:00,  2.34it/s]\n"
     ]
    },
    {
     "name": "stdout",
     "output_type": "stream",
     "text": [
      "eval...............\n"
     ]
    },
    {
     "name": "stderr",
     "output_type": "stream",
     "text": [
      "Test epoch 32, loss: 0.3048, acc: 0.9164: 100%|██████████| 20/20 [00:03<00:00,  5.85it/s]\n"
     ]
    },
    {
     "name": "stdout",
     "output_type": "stream",
     "text": [
      "training...........\n"
     ]
    },
    {
     "name": "stderr",
     "output_type": "stream",
     "text": [
      "Train epoch 33, loss: 0.2996, acc: 0.8959: 100%|██████████| 98/98 [00:41<00:00,  2.38it/s]\n"
     ]
    },
    {
     "name": "stdout",
     "output_type": "stream",
     "text": [
      "eval...............\n"
     ]
    },
    {
     "name": "stderr",
     "output_type": "stream",
     "text": [
      "Test epoch 33, loss: 0.3019, acc: 0.9148: 100%|██████████| 20/20 [00:03<00:00,  5.69it/s]\n"
     ]
    },
    {
     "name": "stdout",
     "output_type": "stream",
     "text": [
      "training...........\n"
     ]
    },
    {
     "name": "stderr",
     "output_type": "stream",
     "text": [
      "Train epoch 34, loss: 0.2910, acc: 0.8983: 100%|██████████| 98/98 [00:41<00:00,  2.37it/s]\n"
     ]
    },
    {
     "name": "stdout",
     "output_type": "stream",
     "text": [
      "eval...............\n"
     ]
    },
    {
     "name": "stderr",
     "output_type": "stream",
     "text": [
      "Test epoch 34, loss: 0.2916, acc: 0.9185: 100%|██████████| 20/20 [00:03<00:00,  5.91it/s]\n"
     ]
    },
    {
     "name": "stdout",
     "output_type": "stream",
     "text": [
      "training...........\n"
     ]
    },
    {
     "name": "stderr",
     "output_type": "stream",
     "text": [
      "Train epoch 35, loss: 0.2862, acc: 0.9006: 100%|██████████| 98/98 [00:41<00:00,  2.37it/s]\n"
     ]
    },
    {
     "name": "stdout",
     "output_type": "stream",
     "text": [
      "eval...............\n"
     ]
    },
    {
     "name": "stderr",
     "output_type": "stream",
     "text": [
      "Test epoch 35, loss: 0.2956, acc: 0.9147: 100%|██████████| 20/20 [00:03<00:00,  5.25it/s]\n"
     ]
    },
    {
     "name": "stdout",
     "output_type": "stream",
     "text": [
      "training...........\n"
     ]
    },
    {
     "name": "stderr",
     "output_type": "stream",
     "text": [
      "Train epoch 36, loss: 0.2806, acc: 0.9029: 100%|██████████| 98/98 [00:41<00:00,  2.36it/s]\n"
     ]
    },
    {
     "name": "stdout",
     "output_type": "stream",
     "text": [
      "eval...............\n"
     ]
    },
    {
     "name": "stderr",
     "output_type": "stream",
     "text": [
      "Test epoch 36, loss: 0.3086, acc: 0.9179: 100%|██████████| 20/20 [00:03<00:00,  5.76it/s]\n"
     ]
    },
    {
     "name": "stdout",
     "output_type": "stream",
     "text": [
      "training...........\n"
     ]
    },
    {
     "name": "stderr",
     "output_type": "stream",
     "text": [
      "Train epoch 37, loss: 0.2726, acc: 0.9055: 100%|██████████| 98/98 [00:41<00:00,  2.37it/s]\n"
     ]
    },
    {
     "name": "stdout",
     "output_type": "stream",
     "text": [
      "eval...............\n"
     ]
    },
    {
     "name": "stderr",
     "output_type": "stream",
     "text": [
      "Test epoch 37, loss: 0.2992, acc: 0.9184: 100%|██████████| 20/20 [00:03<00:00,  5.36it/s]\n"
     ]
    },
    {
     "name": "stdout",
     "output_type": "stream",
     "text": [
      "training...........\n"
     ]
    },
    {
     "name": "stderr",
     "output_type": "stream",
     "text": [
      "Train epoch 38, loss: 0.2662, acc: 0.9068: 100%|██████████| 98/98 [00:41<00:00,  2.37it/s]\n"
     ]
    },
    {
     "name": "stdout",
     "output_type": "stream",
     "text": [
      "eval...............\n"
     ]
    },
    {
     "name": "stderr",
     "output_type": "stream",
     "text": [
      "Test epoch 38, loss: 0.3058, acc: 0.9181: 100%|██████████| 20/20 [00:03<00:00,  5.82it/s]\n"
     ]
    },
    {
     "name": "stdout",
     "output_type": "stream",
     "text": [
      "training...........\n"
     ]
    },
    {
     "name": "stderr",
     "output_type": "stream",
     "text": [
      "Train epoch 39, loss: 0.2658, acc: 0.9074: 100%|██████████| 98/98 [00:41<00:00,  2.35it/s]\n"
     ]
    },
    {
     "name": "stdout",
     "output_type": "stream",
     "text": [
      "eval...............\n"
     ]
    },
    {
     "name": "stderr",
     "output_type": "stream",
     "text": [
      "Test epoch 39, loss: 0.3086, acc: 0.9185: 100%|██████████| 20/20 [00:03<00:00,  5.74it/s]\n"
     ]
    },
    {
     "name": "stdout",
     "output_type": "stream",
     "text": [
      "training...........\n"
     ]
    },
    {
     "name": "stderr",
     "output_type": "stream",
     "text": [
      "Train epoch 40, loss: 0.2609, acc: 0.9105: 100%|██████████| 98/98 [00:41<00:00,  2.38it/s]\n"
     ]
    },
    {
     "name": "stdout",
     "output_type": "stream",
     "text": [
      "eval...............\n"
     ]
    },
    {
     "name": "stderr",
     "output_type": "stream",
     "text": [
      "Test epoch 40, loss: 0.2960, acc: 0.9208: 100%|██████████| 20/20 [00:03<00:00,  5.70it/s]\n"
     ]
    },
    {
     "name": "stdout",
     "output_type": "stream",
     "text": [
      "training...........\n"
     ]
    },
    {
     "name": "stderr",
     "output_type": "stream",
     "text": [
      "Train epoch 41, loss: 0.2574, acc: 0.9093: 100%|██████████| 98/98 [00:42<00:00,  2.32it/s]\n"
     ]
    },
    {
     "name": "stdout",
     "output_type": "stream",
     "text": [
      "eval...............\n"
     ]
    },
    {
     "name": "stderr",
     "output_type": "stream",
     "text": [
      "Test epoch 41, loss: 0.2978, acc: 0.9230: 100%|██████████| 20/20 [00:03<00:00,  5.78it/s]\n"
     ]
    },
    {
     "name": "stdout",
     "output_type": "stream",
     "text": [
      "training...........\n"
     ]
    },
    {
     "name": "stderr",
     "output_type": "stream",
     "text": [
      "Train epoch 42, loss: 0.2558, acc: 0.9127: 100%|██████████| 98/98 [00:41<00:00,  2.38it/s]\n"
     ]
    },
    {
     "name": "stdout",
     "output_type": "stream",
     "text": [
      "eval...............\n"
     ]
    },
    {
     "name": "stderr",
     "output_type": "stream",
     "text": [
      "Test epoch 42, loss: 0.2939, acc: 0.9237: 100%|██████████| 20/20 [00:03<00:00,  5.70it/s]\n"
     ]
    },
    {
     "name": "stdout",
     "output_type": "stream",
     "text": [
      "training...........\n"
     ]
    },
    {
     "name": "stderr",
     "output_type": "stream",
     "text": [
      "Train epoch 43, loss: 0.2486, acc: 0.9129: 100%|██████████| 98/98 [00:41<00:00,  2.37it/s]\n"
     ]
    },
    {
     "name": "stdout",
     "output_type": "stream",
     "text": [
      "eval...............\n"
     ]
    },
    {
     "name": "stderr",
     "output_type": "stream",
     "text": [
      "Test epoch 43, loss: 0.2952, acc: 0.9231: 100%|██████████| 20/20 [00:03<00:00,  5.84it/s]\n"
     ]
    },
    {
     "name": "stdout",
     "output_type": "stream",
     "text": [
      "training...........\n"
     ]
    },
    {
     "name": "stderr",
     "output_type": "stream",
     "text": [
      "Train epoch 44, loss: 0.2467, acc: 0.9149: 100%|██████████| 98/98 [00:41<00:00,  2.37it/s]\n"
     ]
    },
    {
     "name": "stdout",
     "output_type": "stream",
     "text": [
      "eval...............\n"
     ]
    },
    {
     "name": "stderr",
     "output_type": "stream",
     "text": [
      "Test epoch 44, loss: 0.2909, acc: 0.9241: 100%|██████████| 20/20 [00:03<00:00,  5.56it/s]\n"
     ]
    },
    {
     "name": "stdout",
     "output_type": "stream",
     "text": [
      "training...........\n"
     ]
    },
    {
     "name": "stderr",
     "output_type": "stream",
     "text": [
      "Train epoch 45, loss: 0.2431, acc: 0.9159: 100%|██████████| 98/98 [00:41<00:00,  2.38it/s]\n"
     ]
    },
    {
     "name": "stdout",
     "output_type": "stream",
     "text": [
      "eval...............\n"
     ]
    },
    {
     "name": "stderr",
     "output_type": "stream",
     "text": [
      "Test epoch 45, loss: 0.2928, acc: 0.9242: 100%|██████████| 20/20 [00:03<00:00,  5.77it/s]\n"
     ]
    },
    {
     "name": "stdout",
     "output_type": "stream",
     "text": [
      "training...........\n"
     ]
    },
    {
     "name": "stderr",
     "output_type": "stream",
     "text": [
      "Train epoch 46, loss: 0.2415, acc: 0.9156: 100%|██████████| 98/98 [00:41<00:00,  2.38it/s]\n"
     ]
    },
    {
     "name": "stdout",
     "output_type": "stream",
     "text": [
      "eval...............\n"
     ]
    },
    {
     "name": "stderr",
     "output_type": "stream",
     "text": [
      "Test epoch 46, loss: 0.2903, acc: 0.9270: 100%|██████████| 20/20 [00:03<00:00,  5.26it/s]\n"
     ]
    },
    {
     "name": "stdout",
     "output_type": "stream",
     "text": [
      "training...........\n"
     ]
    },
    {
     "name": "stderr",
     "output_type": "stream",
     "text": [
      "Train epoch 47, loss: 0.2423, acc: 0.9167: 100%|██████████| 98/98 [00:41<00:00,  2.37it/s]\n"
     ]
    },
    {
     "name": "stdout",
     "output_type": "stream",
     "text": [
      "eval...............\n"
     ]
    },
    {
     "name": "stderr",
     "output_type": "stream",
     "text": [
      "Test epoch 47, loss: 0.2930, acc: 0.9246: 100%|██████████| 20/20 [00:03<00:00,  5.75it/s]\n"
     ]
    },
    {
     "name": "stdout",
     "output_type": "stream",
     "text": [
      "training...........\n"
     ]
    },
    {
     "name": "stderr",
     "output_type": "stream",
     "text": [
      "Train epoch 48, loss: 0.2407, acc: 0.9164: 100%|██████████| 98/98 [00:41<00:00,  2.37it/s]\n"
     ]
    },
    {
     "name": "stdout",
     "output_type": "stream",
     "text": [
      "eval...............\n"
     ]
    },
    {
     "name": "stderr",
     "output_type": "stream",
     "text": [
      "Test epoch 48, loss: 0.2921, acc: 0.9258: 100%|██████████| 20/20 [00:03<00:00,  5.54it/s]\n"
     ]
    },
    {
     "name": "stdout",
     "output_type": "stream",
     "text": [
      "training...........\n"
     ]
    },
    {
     "name": "stderr",
     "output_type": "stream",
     "text": [
      "Train epoch 49, loss: 0.2376, acc: 0.9182: 100%|██████████| 98/98 [00:41<00:00,  2.37it/s]\n"
     ]
    },
    {
     "name": "stdout",
     "output_type": "stream",
     "text": [
      "eval...............\n"
     ]
    },
    {
     "name": "stderr",
     "output_type": "stream",
     "text": [
      "Test epoch 49, loss: 0.2951, acc: 0.9250: 100%|██████████| 20/20 [00:03<00:00,  5.83it/s]\n"
     ]
    },
    {
     "name": "stdout",
     "output_type": "stream",
     "text": [
      "training...........\n"
     ]
    },
    {
     "name": "stderr",
     "output_type": "stream",
     "text": [
      "Train epoch 50, loss: 0.2412, acc: 0.9168: 100%|██████████| 98/98 [00:41<00:00,  2.36it/s]\n"
     ]
    },
    {
     "name": "stdout",
     "output_type": "stream",
     "text": [
      "eval...............\n"
     ]
    },
    {
     "name": "stderr",
     "output_type": "stream",
     "text": [
      "Test epoch 50, loss: 0.2982, acc: 0.9238: 100%|██████████| 20/20 [00:04<00:00,  4.18it/s]\n"
     ]
    },
    {
     "data": {
      "image/png": "[encoded data removed]",
      "text/plain": [
       "<Figure size 640x480 with 1 Axes>"
      ]
     },
     "metadata": {},
     "output_type": "display_data"
    },
    {
     "data": {
      "image/png": "[encoded data removed]",
      "text/plain": [
       "<Figure size 640x480 with 1 Axes>"
      ]
     },
     "metadata": {},
     "output_type": "display_data"
    }
   ],
   "source": [
    "###########  Do not modify this cell ###########################\n",
    "# ===============================================================\n",
    "\n",
    "train_losses, train_accuracies, test_losses, test_accuracies = finetune()\n",
    "\n",
    "plt.plot(train_losses, label='train loss')  # simply visualize the training loss\n",
    "plt.plot(test_losses, label='test loss')\n",
    "plt.legend()\n",
    "plt.show()\n",
    "\n",
    "plt.plot(train_accuracies, label='train accuracy')  # simply visualize the training loss\n",
    "plt.plot(test_accuracies, label='test accuracy')\n",
    "plt.legend()\n",
    "plt.show()"
   ]
  },
  {
   "cell_type": "code",
   "execution_count": 18,
   "metadata": {
    "id": "bJwI1uPU8jKV"
   },
   "outputs": [],
   "source": []
  },
  {
   "cell_type": "markdown",
   "metadata": {
    "id": "p-SFm2_eF9_2"
   },
   "source": [
    "**Hyperparameters for training and fine-tuning:**\n",
    "\n",
    "\n",
    "For training:\n",
    "\n",
    "batch_size = 512,\n",
    "projection_dim = 128,\n",
    "learning_rate = 0.7,  \n",
    "momentum = 0.9,\n",
    "weight_decay = 1e-4,\n",
    "epochs = 50\n",
    "\n",
    "\n",
    "\n",
    "Also, SGD optimizer has been used. Scheduler has been used as below:\n",
    "\n",
    "`scheduler = torch.optim.lr_scheduler.CosineAnnealingLR(optimizer, T_max=len(train_loader)*epochs, eta_min=0.0001)`\n",
    "\n",
    "\n",
    "---\n",
    "\n",
    "\n",
    "\n",
    "\n",
    "\n",
    "\n",
    "For fine-tuning:\n",
    "\n",
    "batch_size = 512,\n",
    "projection_dim = 128,\n",
    "learning_rate = 0.2,  \n",
    "momentum = 0.9,\n",
    "weight_decay = 0,\n",
    "epochs = 50\n",
    "\n",
    "Also, SGD optimier has been used, with scheduler as below:\n",
    "\n",
    "`scheduler = torch.optim.lr_scheduler.CosineAnnealingLR(optimizer, T_max=len(train_loader)*epochs, eta_min=0.001)`\n"
   ]
  },
  {
   "cell_type": "markdown",
   "metadata": {
    "id": "gKg28xmjHFQr"
   },
   "source": [
    "\n",
    "\n",
    "**Data augmentations used for both training and fine-tuning:**\n",
    "\n",
    "For training, we use below:\n",
    "\n",
    "\n",
    "```\n",
    "train_transform = transforms.Compose([transforms.RandomResizedCrop(32),\n",
    "                                          transforms.RandomHorizontalFlip(p=0.5),\n",
    "                                          getting_color_distortion(s=0.5),\n",
    "                                          transforms.ToTensor()])\n",
    "\n",
    "```\n",
    "\n",
    "\n",
    "\n",
    "where we have Random Resized Crop, Random Horizontal Flip, and Color Jitter and Grayscale.\n",
    "\n",
    "\n",
    "---\n",
    "\n",
    "\n",
    "For fine-tuning, we have below:\n",
    "\n",
    "```\n",
    "train_transform = transforms.Compose([transforms.RandomResizedCrop(32),\n",
    "                                          transforms.RandomHorizontalFlip(p=0.5),\n",
    "                                          transforms.ToTensor()])\n",
    "```\n",
    "\n",
    "where we have Random Resized Crop, Random Horizontal Flip, and convert to tensor  for augmentation."
   ]
  }
 ],
 "metadata": {
  "accelerator": "GPU",
  "colab": {
   "gpuType": "T4",
   "provenance": []
  },
  "gpuClass": "standard",
  "kernelspec": {
   "display_name": "Python 3 (ipykernel)",
   "language": "python",
   "name": "python3"
  },
  "language_info": {
   "codemirror_mode": {
    "name": "ipython",
    "version": 3
   },
   "file_extension": ".py",
   "mimetype": "text/x-python",
   "name": "python",
   "nbconvert_exporter": "python",
   "pygments_lexer": "ipython3",
   "version": "3.11.4"
  }
 },
 "nbformat": 4,
 "nbformat_minor": 1
}
